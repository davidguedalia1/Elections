{
  "nbformat": 4,
  "nbformat_minor": 0,
  "metadata": {
    "colab": {
      "name": "Lab4_solution.ipynb",
      "provenance": [],
      "collapsed_sections": []
    },
    "kernelspec": {
      "display_name": "Python 3",
      "language": "python",
      "name": "python3"
    },
    "language_info": {
      "codemirror_mode": {
        "name": "ipython",
        "version": 3
      },
      "file_extension": ".py",
      "mimetype": "text/x-python",
      "name": "python",
      "nbconvert_exporter": "python",
      "pygments_lexer": "ipython3",
      "version": "3.7.4"
    }
  },
  "cells": [
    {
      "cell_type": "markdown",
      "metadata": {
        "id": "lyQ45Phps6Z6"
      },
      "source": [
        "# **Statistics Lab 52568 - Lab 4 Solution**\n",
        "\n",
        "First, we read the 2021 Israeli election results, and extract the parties voting data"
      ]
    },
    {
      "cell_type": "code",
      "metadata": {
        "id": "eRKSr5EstAUm"
      },
      "source": [
        "import numpy as np  # a module for working with numerical array \n",
        "import pandas as pd  # a module for working with data-frames\n",
        "from matplotlib import pyplot as plt\n",
        "import random\n",
        "import statsmodels.api as sm\n",
        "import io"
      ],
      "execution_count": 3,
      "outputs": []
    },
    {
      "cell_type": "markdown",
      "metadata": {
        "id": "8XK3hJHE-ybH"
      },
      "source": [
        "First, we need to mount our local drive to the colab network"
      ]
    },
    {
      "cell_type": "code",
      "metadata": {
        "colab": {
          "base_uri": "https://localhost:8080/"
        },
        "id": "RWSJpsyKqHjH",
        "outputId": "17d70381-1398-4091-cda1-6ba989f05677"
      },
      "source": [
        "# Add a check if we run in google colab or locally in jupyter notebook\n",
        "run_in_colab = False\n",
        "if 'google.colab' in str(get_ipython()):\n",
        "    run_in_colab = True\n",
        "    print('Running on CoLab')\n",
        "else:\n",
        "    print('Running locally on Jupyter')"
      ],
      "execution_count": 4,
      "outputs": [
        {
          "output_type": "stream",
          "name": "stdout",
          "text": [
            "Running on CoLab\n"
          ]
        }
      ]
    },
    {
      "cell_type": "code",
      "metadata": {
        "id": "bXCcO5Iq2cI0",
        "colab": {
          "base_uri": "https://localhost:8080/"
        },
        "outputId": "14255dfd-382f-4ed6-a65b-56d291409e8d"
      },
      "source": [
        "# Mount drive in google colab\n",
        "if run_in_colab:\n",
        "    from google.colab import drive\n",
        "    drive.mount('/content/drive')\n",
        "else:  # Set local path \n",
        "    data_path = \"C:/Users/Or Zuk/Google Drive/HUJI/Teaching/Lab_52568/Data/Elections/\"  \n"
      ],
      "execution_count": 5,
      "outputs": [
        {
          "output_type": "stream",
          "name": "stdout",
          "text": [
            "Mounted at /content/drive\n"
          ]
        }
      ]
    },
    {
      "cell_type": "code",
      "metadata": {
        "colab": {
          "resources": {
            "http://localhost:8080/nbextensions/google.colab/files.js": {
              "data": "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",
              "ok": true,
              "headers": [
                [
                  "content-type",
                  "application/javascript"
                ]
              ],
              "status": 200,
              "status_text": ""
            }
          },
          "base_uri": "https://localhost:8080/",
          "height": 106
        },
        "id": "Jg1rQ-zrY9bD",
        "outputId": "64c571bc-cb94-4d5a-c883-a18af4889a7e"
      },
      "source": [
        "# Loading elections 2021 data - ballot:\n",
        "if run_in_colab:\n",
        "    from google.colab import files\n",
        "    uploaded = files.upload()"
      ],
      "execution_count": 6,
      "outputs": [
        {
          "output_type": "display_data",
          "data": {
            "text/html": [
              "\n",
              "     <input type=\"file\" id=\"files-af9f841c-ea4a-4717-8d0a-6f273b2b7b00\" name=\"files[]\" multiple disabled\n",
              "        style=\"border:none\" />\n",
              "     <output id=\"result-af9f841c-ea4a-4717-8d0a-6f273b2b7b00\">\n",
              "      Upload widget is only available when the cell has been executed in the\n",
              "      current browser session. Please rerun this cell to enable.\n",
              "      </output>\n",
              "      <script src=\"/nbextensions/google.colab/files.js\"></script> "
            ],
            "text/plain": [
              "<IPython.core.display.HTML object>"
            ]
          },
          "metadata": {}
        },
        {
          "output_type": "stream",
          "name": "stdout",
          "text": [
            "Saving votes per city 2021.csv to votes per city 2021.csv\n",
            "Saving votes per ballot 2021.csv to votes per ballot 2021.csv\n"
          ]
        }
      ]
    },
    {
      "cell_type": "code",
      "metadata": {
        "colab": {
          "resources": {
            "http://localhost:8080/nbextensions/google.colab/files.js": {
              "data": "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",
              "ok": true,
              "headers": [
                [
                  "content-type",
                  "application/javascript"
                ]
              ],
              "status": 200,
              "status_text": ""
            }
          },
          "base_uri": "https://localhost:8080/",
          "height": 106
        },
        "id": "RZrtLqi9Y0mn",
        "outputId": "91383010-4626-4aa1-fb41-0941051b9067"
      },
      "source": [
        "# Loading demographics data - eshkol hebrati calcali:\n",
        "if run_in_colab:\n",
        "    from google.colab import files\n",
        "    socio = files.upload()"
      ],
      "execution_count": null,
      "outputs": [
        {
          "output_type": "display_data",
          "data": {
            "text/html": [
              "\n",
              "     <input type=\"file\" id=\"files-aad2eb88-fa13-4481-a2e2-536323cd18e7\" name=\"files[]\" multiple disabled\n",
              "        style=\"border:none\" />\n",
              "     <output id=\"result-aad2eb88-fa13-4481-a2e2-536323cd18e7\">\n",
              "      Upload widget is only available when the cell has been executed in the\n",
              "      current browser session. Please rerun this cell to enable.\n",
              "      </output>\n",
              "      <script src=\"/nbextensions/google.colab/files.js\"></script> "
            ],
            "text/plain": [
              "<IPython.core.display.HTML object>"
            ]
          },
          "metadata": {}
        },
        {
          "output_type": "stream",
          "name": "stdout",
          "text": [
            "Saving eshkol_hevrati_calcali.csv to eshkol_hevrati_calcali.csv\n",
            "Saving eshkol_hevrati_calcali.xlsx to eshkol_hevrati_calcali.xlsx\n"
          ]
        }
      ]
    },
    {
      "cell_type": "code",
      "metadata": {
        "id": "xaG-KYCw8XZz"
      },
      "source": [
        "# Loading elections 2021 elections data:\n",
        "import io\n",
        "\n",
        "data_type = \"city\" # \"ballot\"  # city\n",
        "if run_in_colab:\n",
        "    if data_type == \"ballot\":\n",
        "      df_2021_raw = pd.read_csv(io.BytesIO(uploaded['votes per city 2021.csv']),  encoding = 'iso-8859-8', index_col='שם ישוב')\n",
        "    else:\n",
        "      df_2021_raw = pd.read_csv(io.BytesIO(uploaded['votes per city 2021.csv']),  encoding = 'iso-8859-8', index_col='שם ישוב')\n",
        "else:  # read local file\n",
        "    if data_type == \"ballot\":\n",
        "        df_2021_raw = pd.read_csv(data_path + 'votes per ballot 2021.csv',  encoding = 'iso-8859-8', index_col='שם ישוב')\n",
        "    else:\n",
        "        df_2021_raw = pd.read_csv(data_path + 'votes per city 2021.csv',  encoding = 'iso-8859-8', index_col='שם ישוב')\n",
        "\n",
        "if data_type == \"ballot\":\n",
        "    # preprocessing of ballot\n",
        "    df_2021 = df_2021_raw.drop('סמל ועדה', axis=1) # new column added in Sep 2019\n",
        "    df_2021 = df_2021[df_2021.columns[8:-1]] # removing \"metadata\" columns\n",
        "else:\n",
        "    # preprocessing of cities \n",
        "    df_2021 = df_2021_raw.drop('סמל ועדה', axis=1) # new column added in Sep 2019\n",
        "    df_2021 = df_2021[df_2021.columns[5:-1]] # removing \"metadata\" columns\n",
        "# Dataset is now stored in a Pandas Dataframe\n",
        "\n",
        "# convert columns with the parties' names:\n",
        "parties_dict_2021 ={'אמת' : \"עבודה\", 'מרצ' : \"מרצ\",  'ג' : \"יהדות התורה\", 'עם'  : \"רעם\",  'ת'  : \"תקוה חדשה\", 'ודעם'  : \"הרשימה המשותפת\", 'ב'  : \"ימינה\", 'ט'  : \"הציונות הדתית\",\n",
        " 'ל'  : \"ישראל ביתנו\", 'מחל'  : \"הליכוד\",  'פה'  : \"יש עתיד\", 'כן'  : \"כחול לבן\", 'שס'  : \"שס\"}\n",
        "\n",
        "df_2021.rename(columns=parties_dict_2021, inplace=True)"
      ],
      "execution_count": 8,
      "outputs": []
    },
    {
      "cell_type": "code",
      "metadata": {
        "colab": {
          "base_uri": "https://localhost:8080/",
          "height": 234
        },
        "id": "uylJBTX9ZJlN",
        "outputId": "b131c706-e629-45a8-ca10-cbd65b6ef5f5"
      },
      "source": [
        "# df_2021.reset_index(inplace=True)\n",
        "df_2021.style.set_properties(**{'text-align': 'left'})\n",
        "df_2021.head()"
      ],
      "execution_count": 9,
      "outputs": [
        {
          "output_type": "execute_result",
          "data": {
            "text/html": [
              "<div>\n",
              "<style scoped>\n",
              "    .dataframe tbody tr th:only-of-type {\n",
              "        vertical-align: middle;\n",
              "    }\n",
              "\n",
              "    .dataframe tbody tr th {\n",
              "        vertical-align: top;\n",
              "    }\n",
              "\n",
              "    .dataframe thead th {\n",
              "        text-align: right;\n",
              "    }\n",
              "</style>\n",
              "<table border=\"1\" class=\"dataframe\">\n",
              "  <thead>\n",
              "    <tr style=\"text-align: right;\">\n",
              "      <th></th>\n",
              "      <th>עבודה</th>\n",
              "      <th>ימינה</th>\n",
              "      <th>יהדות התורה</th>\n",
              "      <th>הרשימה המשותפת</th>\n",
              "      <th>ז</th>\n",
              "      <th>זץ</th>\n",
              "      <th>הציונות הדתית</th>\n",
              "      <th>י</th>\n",
              "      <th>יז</th>\n",
              "      <th>ינ</th>\n",
              "      <th>יף</th>\n",
              "      <th>יק</th>\n",
              "      <th>יר</th>\n",
              "      <th>כ</th>\n",
              "      <th>כך</th>\n",
              "      <th>כחול לבן</th>\n",
              "      <th>ישראל ביתנו</th>\n",
              "      <th>הליכוד</th>\n",
              "      <th>מרצ</th>\n",
              "      <th>נ</th>\n",
              "      <th>ני</th>\n",
              "      <th>נר</th>\n",
              "      <th>רעם</th>\n",
              "      <th>יש עתיד</th>\n",
              "      <th>ףז</th>\n",
              "      <th>צי</th>\n",
              "      <th>צכ</th>\n",
              "      <th>צף</th>\n",
              "      <th>ץ</th>\n",
              "      <th>ק</th>\n",
              "      <th>קי</th>\n",
              "      <th>קך</th>\n",
              "      <th>קץ</th>\n",
              "      <th>ר</th>\n",
              "      <th>רנ</th>\n",
              "      <th>רף</th>\n",
              "      <th>רק</th>\n",
              "      <th>שס</th>\n",
              "      <th>תקוה חדשה</th>\n",
              "    </tr>\n",
              "    <tr>\n",
              "      <th>שם ישוב</th>\n",
              "      <th></th>\n",
              "      <th></th>\n",
              "      <th></th>\n",
              "      <th></th>\n",
              "      <th></th>\n",
              "      <th></th>\n",
              "      <th></th>\n",
              "      <th></th>\n",
              "      <th></th>\n",
              "      <th></th>\n",
              "      <th></th>\n",
              "      <th></th>\n",
              "      <th></th>\n",
              "      <th></th>\n",
              "      <th></th>\n",
              "      <th></th>\n",
              "      <th></th>\n",
              "      <th></th>\n",
              "      <th></th>\n",
              "      <th></th>\n",
              "      <th></th>\n",
              "      <th></th>\n",
              "      <th></th>\n",
              "      <th></th>\n",
              "      <th></th>\n",
              "      <th></th>\n",
              "      <th></th>\n",
              "      <th></th>\n",
              "      <th></th>\n",
              "      <th></th>\n",
              "      <th></th>\n",
              "      <th></th>\n",
              "      <th></th>\n",
              "      <th></th>\n",
              "      <th></th>\n",
              "      <th></th>\n",
              "      <th></th>\n",
              "      <th></th>\n",
              "      <th></th>\n",
              "    </tr>\n",
              "  </thead>\n",
              "  <tbody>\n",
              "    <tr>\n",
              "      <th>אבירים</th>\n",
              "      <td>47</td>\n",
              "      <td>0</td>\n",
              "      <td>0</td>\n",
              "      <td>3</td>\n",
              "      <td>0</td>\n",
              "      <td>0</td>\n",
              "      <td>2</td>\n",
              "      <td>0</td>\n",
              "      <td>3</td>\n",
              "      <td>0</td>\n",
              "      <td>0</td>\n",
              "      <td>0</td>\n",
              "      <td>0</td>\n",
              "      <td>0</td>\n",
              "      <td>0</td>\n",
              "      <td>16</td>\n",
              "      <td>2</td>\n",
              "      <td>5</td>\n",
              "      <td>31</td>\n",
              "      <td>0</td>\n",
              "      <td>0</td>\n",
              "      <td>0</td>\n",
              "      <td>0</td>\n",
              "      <td>27</td>\n",
              "      <td>0</td>\n",
              "      <td>0</td>\n",
              "      <td>0</td>\n",
              "      <td>0</td>\n",
              "      <td>0</td>\n",
              "      <td>0</td>\n",
              "      <td>0</td>\n",
              "      <td>0</td>\n",
              "      <td>0</td>\n",
              "      <td>5</td>\n",
              "      <td>0</td>\n",
              "      <td>0</td>\n",
              "      <td>0</td>\n",
              "      <td>1</td>\n",
              "      <td>8</td>\n",
              "    </tr>\n",
              "    <tr>\n",
              "      <th>אדירים</th>\n",
              "      <td>1</td>\n",
              "      <td>7</td>\n",
              "      <td>4</td>\n",
              "      <td>0</td>\n",
              "      <td>0</td>\n",
              "      <td>0</td>\n",
              "      <td>9</td>\n",
              "      <td>0</td>\n",
              "      <td>1</td>\n",
              "      <td>0</td>\n",
              "      <td>0</td>\n",
              "      <td>0</td>\n",
              "      <td>0</td>\n",
              "      <td>0</td>\n",
              "      <td>0</td>\n",
              "      <td>3</td>\n",
              "      <td>0</td>\n",
              "      <td>84</td>\n",
              "      <td>0</td>\n",
              "      <td>0</td>\n",
              "      <td>0</td>\n",
              "      <td>0</td>\n",
              "      <td>0</td>\n",
              "      <td>2</td>\n",
              "      <td>0</td>\n",
              "      <td>0</td>\n",
              "      <td>0</td>\n",
              "      <td>0</td>\n",
              "      <td>0</td>\n",
              "      <td>0</td>\n",
              "      <td>0</td>\n",
              "      <td>0</td>\n",
              "      <td>0</td>\n",
              "      <td>2</td>\n",
              "      <td>0</td>\n",
              "      <td>0</td>\n",
              "      <td>0</td>\n",
              "      <td>61</td>\n",
              "      <td>6</td>\n",
              "    </tr>\n",
              "    <tr>\n",
              "      <th>אושה</th>\n",
              "      <td>72</td>\n",
              "      <td>7</td>\n",
              "      <td>0</td>\n",
              "      <td>3</td>\n",
              "      <td>0</td>\n",
              "      <td>0</td>\n",
              "      <td>0</td>\n",
              "      <td>0</td>\n",
              "      <td>2</td>\n",
              "      <td>0</td>\n",
              "      <td>0</td>\n",
              "      <td>1</td>\n",
              "      <td>0</td>\n",
              "      <td>0</td>\n",
              "      <td>0</td>\n",
              "      <td>37</td>\n",
              "      <td>8</td>\n",
              "      <td>24</td>\n",
              "      <td>20</td>\n",
              "      <td>0</td>\n",
              "      <td>0</td>\n",
              "      <td>0</td>\n",
              "      <td>0</td>\n",
              "      <td>86</td>\n",
              "      <td>0</td>\n",
              "      <td>0</td>\n",
              "      <td>0</td>\n",
              "      <td>0</td>\n",
              "      <td>0</td>\n",
              "      <td>0</td>\n",
              "      <td>0</td>\n",
              "      <td>0</td>\n",
              "      <td>0</td>\n",
              "      <td>1</td>\n",
              "      <td>0</td>\n",
              "      <td>0</td>\n",
              "      <td>0</td>\n",
              "      <td>0</td>\n",
              "      <td>15</td>\n",
              "    </tr>\n",
              "    <tr>\n",
              "      <th>אחווה</th>\n",
              "      <td>14</td>\n",
              "      <td>4</td>\n",
              "      <td>0</td>\n",
              "      <td>0</td>\n",
              "      <td>0</td>\n",
              "      <td>0</td>\n",
              "      <td>4</td>\n",
              "      <td>0</td>\n",
              "      <td>0</td>\n",
              "      <td>0</td>\n",
              "      <td>0</td>\n",
              "      <td>0</td>\n",
              "      <td>0</td>\n",
              "      <td>0</td>\n",
              "      <td>0</td>\n",
              "      <td>36</td>\n",
              "      <td>3</td>\n",
              "      <td>27</td>\n",
              "      <td>10</td>\n",
              "      <td>0</td>\n",
              "      <td>0</td>\n",
              "      <td>0</td>\n",
              "      <td>0</td>\n",
              "      <td>37</td>\n",
              "      <td>0</td>\n",
              "      <td>0</td>\n",
              "      <td>0</td>\n",
              "      <td>0</td>\n",
              "      <td>0</td>\n",
              "      <td>0</td>\n",
              "      <td>0</td>\n",
              "      <td>0</td>\n",
              "      <td>0</td>\n",
              "      <td>0</td>\n",
              "      <td>0</td>\n",
              "      <td>0</td>\n",
              "      <td>0</td>\n",
              "      <td>2</td>\n",
              "      <td>8</td>\n",
              "    </tr>\n",
              "    <tr>\n",
              "      <th>איבים</th>\n",
              "      <td>0</td>\n",
              "      <td>4</td>\n",
              "      <td>0</td>\n",
              "      <td>0</td>\n",
              "      <td>0</td>\n",
              "      <td>1</td>\n",
              "      <td>10</td>\n",
              "      <td>0</td>\n",
              "      <td>0</td>\n",
              "      <td>0</td>\n",
              "      <td>0</td>\n",
              "      <td>0</td>\n",
              "      <td>0</td>\n",
              "      <td>0</td>\n",
              "      <td>0</td>\n",
              "      <td>5</td>\n",
              "      <td>0</td>\n",
              "      <td>17</td>\n",
              "      <td>0</td>\n",
              "      <td>0</td>\n",
              "      <td>0</td>\n",
              "      <td>1</td>\n",
              "      <td>0</td>\n",
              "      <td>0</td>\n",
              "      <td>0</td>\n",
              "      <td>0</td>\n",
              "      <td>0</td>\n",
              "      <td>0</td>\n",
              "      <td>0</td>\n",
              "      <td>0</td>\n",
              "      <td>0</td>\n",
              "      <td>1</td>\n",
              "      <td>0</td>\n",
              "      <td>0</td>\n",
              "      <td>0</td>\n",
              "      <td>0</td>\n",
              "      <td>0</td>\n",
              "      <td>1</td>\n",
              "      <td>0</td>\n",
              "    </tr>\n",
              "  </tbody>\n",
              "</table>\n",
              "</div>"
            ],
            "text/plain": [
              "         עבודה  ימינה  יהדות התורה  הרשימה המשותפת  ...  רף  רק  שס  תקוה חדשה\n",
              "שם ישוב                                             ...                       \n",
              "אבירים      47      0            0               3  ...   0   0   1          8\n",
              "אדירים       1      7            4               0  ...   0   0  61          6\n",
              "אושה        72      7            0               3  ...   0   0   0         15\n",
              "אחווה       14      4            0               0  ...   0   0   2          8\n",
              "איבים        0      4            0               0  ...   0   0   1          0\n",
              "\n",
              "[5 rows x 39 columns]"
            ]
          },
          "metadata": {},
          "execution_count": 9
        }
      ]
    },
    {
      "cell_type": "markdown",
      "metadata": {
        "id": "4uaRGD8JYVk0"
      },
      "source": [
        "We use only the parties which their voting **percentage** \n",
        "in a given city is above a % threshold, and we remove the results of 'Maatafot hitzoniot':"
      ]
    },
    {
      "cell_type": "code",
      "metadata": {
        "id": "gvcZSFcX_w49"
      },
      "source": [
        "# Compute votes share only for parties above a certain threshold \n",
        "def parties_votes_percents(df, thresh):\n",
        "    par = df.sum().div(df.sum().sum()).sort_values(ascending=False)\n",
        "    return par[par > thresh]\n",
        "\n",
        "total_votes = parties_votes_percents(df_2021, 0.035)  # total votes for each party\n",
        "names = total_votes.keys() # largest parties\n",
        "\n",
        "# Data with only the largest parties:\n",
        "df_2021 = df_2021[names]\n",
        "df_2021 = df_2021.drop('מעטפות חיצוניות')\n",
        "df_2021_raw = df_2021_raw.drop('מעטפות חיצוניות')"
      ],
      "execution_count": 10,
      "outputs": []
    },
    {
      "cell_type": "markdown",
      "metadata": {
        "id": "86qhrpEjDHIB"
      },
      "source": [
        "## Question 1: \n",
        "\n",
        "#### Function that calculates the new fixing parameter  $\\alpha$ , and fixes the given data.\n",
        "\n",
        "\n"
      ]
    },
    {
      "cell_type": "code",
      "metadata": {
        "id": "MNw-9Bjb-c--"
      },
      "source": [
        "# Correct for voting turnout in cities/ballots using linear regression\n",
        "def regression_turnout_correction(df, turnout):\n",
        "    # Preprocess: remove cities/ballots with zero votes:\n",
        "    good_inds = np.where(np.array(turnout) > 0)\n",
        "    if np.min(turnout) == 0:\n",
        "      print(\"Removed cities with no votes in simulation\")\n",
        "    df = df.iloc[good_inds]\n",
        "    turnout = turnout.iloc[good_inds]\n",
        "\n",
        "    p = df.sum().div(df.sum().sum())  # votes without correction\n",
        "    bzb = df.sum(axis=1) / turnout # can also be read from outside\n",
        "    model = sm.OLS(bzb, df).fit() # linear regression WITHOUT intercept\n",
        "    q_hat = p * model.params  # M.coef_ # beta_inv\n",
        "    q_hat = q_hat / q_hat.sum()  # Normalize\n",
        "    return p, q_hat, model.params # beta_inv"
      ],
      "execution_count": 11,
      "outputs": []
    },
    {
      "cell_type": "markdown",
      "metadata": {
        "id": "3zfOtcxZBS4y"
      },
      "source": [
        "## Question 2: \n",
        "#### Repeat the simulations same as in lab 3, and add to the graphs the estimator with the new fixing parameter\n",
        "\n",
        "\n"
      ]
    },
    {
      "cell_type": "markdown",
      "metadata": {
        "id": "WzpUJxPT-PK6"
      },
      "source": [
        "From lab 3: \n",
        "Function that recieves the  $\\tilde{N}$ and V matrices and samples binomial votes."
      ]
    },
    {
      "cell_type": "code",
      "metadata": {
        "id": "8PmBu-E2ClOb"
      },
      "source": [
        "def sim_data(N,V):\n",
        "  new_df = pd.DataFrame(np.random.binomial(N,V))\n",
        "  new_df.index = df_2021.index\n",
        "  v = new_df.sum(axis=1)/ N.sum(axis=1)\n",
        "  return new_df, v"
      ],
      "execution_count": 12,
      "outputs": []
    },
    {
      "cell_type": "markdown",
      "metadata": {
        "id": "XaUdcGnwDtKX"
      },
      "source": [
        "#### Run simulations and apply corrections"
      ]
    },
    {
      "cell_type": "markdown",
      "metadata": {
        "id": "Vq7QLWalEMWK"
      },
      "source": [
        "Computing  $\\tilde{N}$ and $V_i$ for the 3 simulations:"
      ]
    },
    {
      "cell_type": "code",
      "metadata": {
        "id": "M3zzFBG2y0de"
      },
      "source": [
        "# Nij~ :\n",
        "N_tilde = np.array(df_2021.mul(df_2021_raw['בזב'].sum()).div(df_2021_raw['כשרים'].sum()),dtype='int32')\n",
        "\n",
        "# 3 types of Vi \n",
        "v = df_2021_raw['כשרים'].div(df_2021_raw['בזב'])\n",
        "u = list(np.random.permutation(0.2 + np.array(range(13)) * 0.05))\n",
        "#u = [0.6,0.65,0.75,0.5,0.4,0.35,0.8,0.55,0.45,0.25,0.3,0.7,0.2]\n",
        "#u_random = random.sample(u, len(u))\n",
        "\n",
        "dim = df_2021.shape\n",
        "# converting them to the desired shape:\n",
        "V_v = np.tile(np.array([v]).transpose(), (1, len(names)))\n",
        "V_u = np.tile(np.array(u), (dim[0],1))\n",
        "#V_u_random = np.tile(np.array(u_random), (dim[0],1))\n",
        "\n",
        "V_u_random = V_u.copy()\n",
        "for i in range(df_2021.shape[0]):\n",
        "  V_u_random[i,] = np.random.permutation(u)\n",
        "#V_u_random = np.tile(np.array(u_random), (dim[0],1))"
      ],
      "execution_count": 20,
      "outputs": []
    },
    {
      "cell_type": "markdown",
      "metadata": {
        "id": "AErx4swWy0AD"
      },
      "source": [
        "A function that calculates the $p$ and the  $\\hat{q}$  (after fixing data to 100% votes with $v_i= \\frac{kosher_i}{bzb_i}$)"
      ]
    },
    {
      "cell_type": "code",
      "metadata": {
        "id": "VHHiuZyREEd_"
      },
      "source": [
        "def turnout_correction(df, fix_param):\n",
        "  p = parties_votes_percents(df, 0) \n",
        "  q_hat = parties_votes_percents(df.div(fix_param, axis = \"rows\"), 0)\n",
        "  return q_hat\n"
      ],
      "execution_count": 22,
      "outputs": []
    },
    {
      "cell_type": "markdown",
      "metadata": {
        "id": "KtpU9Ims6h-B"
      },
      "source": [
        "Multiple simulations function:"
      ]
    },
    {
      "cell_type": "code",
      "metadata": {
        "id": "es2WgNpK6g_H"
      },
      "source": [
        "def simulations(iters,N,V):\n",
        "  p_mat = np.zeros([iters, len(names)])\n",
        "  q_hat = np.zeros([iters, len(names)]) \n",
        "  q_hat_reg = np.zeros([iters, len(names)]) \n",
        "\n",
        "  # in every simulation we calculate p and q_hat (after fixing the data)\n",
        "  for i in range(0,iters):\n",
        "    new_df, v = sim_data(N,V)\n",
        "    q_hat[i,] = turnout_correction(new_df, v)\n",
        "    p_mat[i,], q_hat_reg[i,] = regression_turnout_correction(new_df, v)[0:2]\n",
        "\n",
        "  return p_mat, q_hat, q_hat_reg"
      ],
      "execution_count": 23,
      "outputs": []
    },
    {
      "cell_type": "markdown",
      "metadata": {
        "id": "RuY3ClUtLp7r"
      },
      "source": [
        " Run 50 simulations:"
      ]
    },
    {
      "cell_type": "code",
      "metadata": {
        "id": "Sj7vvY8b5igq",
        "colab": {
          "base_uri": "https://localhost:8080/"
        },
        "outputId": "51aef9b0-8f90-4b2e-a798-60eef961ac6b"
      },
      "source": [
        "iters = 50 # number of simulations\n",
        "q_real = N_tilde.sum(axis=0)/(N_tilde.sum())\n",
        "\n",
        "sim_v = simulations(iters, N_tilde, V_v)\n",
        "mean_p_v = np.nanmean(sim_v[0],axis=0)\n",
        "mean_q_v = np.nanmean(sim_v[1],axis=0)\n",
        "mean_q_v_beta = np.nanmean(sim_v[2],axis=0)\n",
        "std_q_v = np.std(sim_v[1],axis=0) # Compute also standard deviations \n",
        "std_q_v_beta = np.std(sim_v[2],axis=0)\n",
        "\n",
        "sim_u = simulations(iters, N_tilde, V_u)\n",
        "mean_p_u = sim_u[0].mean(axis=0) \n",
        "mean_q_u = sim_u[1].mean(axis=0) \n",
        "mean_q_u_beta = sim_u[2].mean(axis=0)\n",
        "std_q_u = sim_u[1].std(axis=0) \n",
        "std_q_u_beta = sim_u[2].std(axis=0)\n",
        "\n",
        "sim_u_random = simulations(iters, N_tilde, V_u_random)\n",
        "mean_p_u_random = sim_u_random[0].mean(axis=0)\n",
        "mean_q_u_random = sim_u_random[1].mean(axis=0)\n",
        "mean_q_u_random_beta = sim_u_random[2].mean(axis=0)\n",
        "std_q_u_random = sim_u_random[1].std(axis=0)\n",
        "std_q_u_random_beta = sim_u_random[2].std(axis=0)\n",
        "\n"
      ],
      "execution_count": 24,
      "outputs": [
        {
          "output_type": "stream",
          "name": "stdout",
          "text": [
            "Removed cities with no votes in simulation\n",
            "Removed cities with no votes in simulation\n",
            "Removed cities with no votes in simulation\n",
            "Removed cities with no votes in simulation\n",
            "Removed cities with no votes in simulation\n",
            "Removed cities with no votes in simulation\n",
            "Removed cities with no votes in simulation\n",
            "Removed cities with no votes in simulation\n",
            "Removed cities with no votes in simulation\n",
            "Removed cities with no votes in simulation\n",
            "Removed cities with no votes in simulation\n",
            "Removed cities with no votes in simulation\n",
            "Removed cities with no votes in simulation\n",
            "Removed cities with no votes in simulation\n"
          ]
        }
      ]
    },
    {
      "cell_type": "markdown",
      "metadata": {
        "id": "e9I27XLO8jRr"
      },
      "source": [
        "## Bar-plots showing the results"
      ]
    },
    {
      "cell_type": "code",
      "metadata": {
        "colab": {
          "base_uri": "https://localhost:8080/",
          "height": 1000
        },
        "id": "450ecDyEmWTi",
        "outputId": "6611fd7a-283f-4d22-b684-eca3c21724d2"
      },
      "source": [
        "# Bar plot for a party, only showing values above a certain threshold after fixing:\n",
        "def party_bar_fix(q_real, q_hat, q_hat_beta, q_hat_std, q_hat_beta_std, p):\n",
        "    width = 0.2  # set column width \n",
        "    n = len(total_votes)\n",
        "\n",
        "    rev_names = [name[::-1] for name in list(names)]\n",
        "    fig, ax = plt.subplots()  # plt.subplots()\n",
        "\n",
        "    q_real_bar = ax.bar(np.arange(n), list(q_real), width, color='b')\n",
        "    q_hat_bar = ax.bar(np.arange(n)+width, q_hat, width, color='r', yerr = q_hat_std, capsize=5)\n",
        "    q_hat_beta_bar = ax.bar(np.arange(n)+2*width, q_hat_beta, width, color='y', yerr = q_hat_beta_std, capsize=5)\n",
        "    p_bar = ax.bar(np.arange(n)+3*width, p, width, color='g')\n",
        "\n",
        "    ax.set_ylabel('Votes percent')\n",
        "    ax.set_xlabel('Parties Names')\n",
        "    ax.set_title('Votes percent per party - simultions')\n",
        "    ax.set_xticks(np.arange(n))\n",
        "    ax.set_xticklabels(rev_names, rotation=90)\n",
        "    ax.legend((q_real_bar, q_hat_bar, q_hat_beta_bar, p_bar), ('q real', 'q hat', 'q hat beta', 'p'))\n",
        "    plt.show()\n",
        "\n",
        "    return fig, ax\n",
        "\n",
        "party_bar_fix(q_real, mean_q_v, mean_q_v_beta, std_q_v, std_q_v_beta, mean_p_v)\n",
        "party_bar_fix(q_real, mean_q_u, mean_q_u_beta, std_q_u, std_q_u_beta, mean_p_u)\n",
        "party_bar_fix(q_real, mean_q_u_random, mean_q_u_random_beta, std_q_u_random, std_q_u_random_beta, mean_p_u_random)"
      ],
      "execution_count": 25,
      "outputs": [
        {
          "output_type": "display_data",
          "data": {
            "image/png": "[encoded data removed]",
            "text/plain": [
              "<Figure size 432x288 with 1 Axes>"
            ]
          },
          "metadata": {
            "needs_background": "light"
          }
        },
        {
          "output_type": "display_data",
          "data": {
            "image/png": "[encoded data removed]",
            "text/plain": [
              "<Figure size 432x288 with 1 Axes>"
            ]
          },
          "metadata": {
            "needs_background": "light"
          }
        },
        {
          "output_type": "display_data",
          "data": {
            "image/png": "[encoded data removed]",
            "text/plain": [
              "<Figure size 432x288 with 1 Axes>"
            ]
          },
          "metadata": {
            "needs_background": "light"
          }
        },
        {
          "output_type": "execute_result",
          "data": {
            "text/plain": [
              "(<Figure size 432x288 with 1 Axes>,\n",
              " <matplotlib.axes._subplots.AxesSubplot at 0x7fb82ee34d10>)"
            ]
          },
          "metadata": {},
          "execution_count": 25
        }
      ]
    },
    {
      "cell_type": "markdown",
      "metadata": {
        "id": "4yyVuC3E6QT2"
      },
      "source": [
        "## Question 3: Socio-economic data"
      ]
    },
    {
      "cell_type": "markdown",
      "metadata": {
        "id": "SU0Nn9g0KF32"
      },
      "source": [
        "Loading eshkol hevrati data and votes per city"
      ]
    },
    {
      "cell_type": "code",
      "metadata": {
        "colab": {
          "base_uri": "https://localhost:8080/",
          "height": 234
        },
        "id": "WmZGYyag6Qsk",
        "outputId": "51ffb7f6-9e50-4767-8e81-3c94d5e014b4"
      },
      "source": [
        "if  run_in_colab:\n",
        "    df_city_raw = pd.read_csv(io.BytesIO(uploaded['votes per city 2021.csv']),  encoding = 'iso-8859-8', index_col='שם ישוב')\n",
        "    df_socio = pd.read_excel(io.BytesIO(socio['eshkol_hevrati_calcali.xlsx']), index_col='name')\n",
        "else:\n",
        "    df_city_raw = pd.read_csv(data_path + 'votes per city 2021.csv',  encoding = 'iso-8859-8', index_col='שם ישוב')\n",
        "    df_socio = pd.read_excel('eshkol_hevrati_calcali.xlsx', index_col='name')\n",
        "\n",
        "# preprocessing of cities \n",
        "df_city = df_city_raw.drop('סמל ועדה', axis=1) # new column added in Sep 2019\n",
        "df_city = df_city[df_city.columns[5:-1]] # removing \"metadata\" columns\n",
        "df_city['סמל ישוב'] = df_city_raw['סמל ישוב']\n",
        "\n",
        "df_city.rename(columns=parties_dict_2021, inplace=True)\n",
        "\n",
        "df_socio.head(5)"
      ],
      "execution_count": null,
      "outputs": [
        {
          "output_type": "execute_result",
          "data": {
            "text/html": [
              "<div>\n",
              "<style scoped>\n",
              "    .dataframe tbody tr th:only-of-type {\n",
              "        vertical-align: middle;\n",
              "    }\n",
              "\n",
              "    .dataframe tbody tr th {\n",
              "        vertical-align: top;\n",
              "    }\n",
              "\n",
              "    .dataframe thead th {\n",
              "        text-align: right;\n",
              "    }\n",
              "</style>\n",
              "<table border=\"1\" class=\"dataframe\">\n",
              "  <thead>\n",
              "    <tr style=\"text-align: right;\">\n",
              "      <th></th>\n",
              "      <th>set_code</th>\n",
              "      <th>population</th>\n",
              "      <th>index_value</th>\n",
              "      <th>eco_level</th>\n",
              "    </tr>\n",
              "    <tr>\n",
              "      <th>name</th>\n",
              "      <th></th>\n",
              "      <th></th>\n",
              "      <th></th>\n",
              "      <th></th>\n",
              "    </tr>\n",
              "  </thead>\n",
              "  <tbody>\n",
              "    <tr>\n",
              "      <th>עוזייר</th>\n",
              "      <td>528</td>\n",
              "      <td>3047.0</td>\n",
              "      <td>-1.679</td>\n",
              "      <td>1</td>\n",
              "    </tr>\n",
              "    <tr>\n",
              "      <th>רומאנה</th>\n",
              "      <td>539</td>\n",
              "      <td>1129.0</td>\n",
              "      <td>-1.566</td>\n",
              "      <td>2</td>\n",
              "    </tr>\n",
              "    <tr>\n",
              "      <th>רומת הייב</th>\n",
              "      <td>997</td>\n",
              "      <td>1882.0</td>\n",
              "      <td>-1.237</td>\n",
              "      <td>2</td>\n",
              "    </tr>\n",
              "    <tr>\n",
              "      <th>חמאם</th>\n",
              "      <td>993</td>\n",
              "      <td>1410.0</td>\n",
              "      <td>-0.738</td>\n",
              "      <td>3</td>\n",
              "    </tr>\n",
              "    <tr>\n",
              "      <th>תרבין א-צאנע (יישוב)</th>\n",
              "      <td>1346</td>\n",
              "      <td>437.0</td>\n",
              "      <td>-3.103</td>\n",
              "      <td>1</td>\n",
              "    </tr>\n",
              "  </tbody>\n",
              "</table>\n",
              "</div>"
            ],
            "text/plain": [
              "                      set_code  population  index_value  eco_level\n",
              "name                                                              \n",
              "עוזייר                     528      3047.0       -1.679          1\n",
              "רומאנה                     539      1129.0       -1.566          2\n",
              "רומת הייב                  997      1882.0       -1.237          2\n",
              "חמאם                       993      1410.0       -0.738          3\n",
              "תרבין א-צאנע (יישוב)      1346       437.0       -3.103          1"
            ]
          },
          "metadata": {},
          "execution_count": 43
        }
      ]
    },
    {
      "cell_type": "markdown",
      "metadata": {
        "id": "gCYZWl-L7SOy"
      },
      "source": [
        "Finding the shared cities in the two dataframes"
      ]
    },
    {
      "cell_type": "code",
      "metadata": {
        "colab": {
          "base_uri": "https://localhost:8080/"
        },
        "id": "-1XBxsNA7Si7",
        "outputId": "4d9792c0-435d-42d0-c894-ac22c9da5be4"
      },
      "source": [
        "# Create a merged data frame by using the pandas join commend:\n",
        "merged_df = df_city.join(df_socio.set_index('set_code'), on='סמל ישוב')\n",
        "merged_df = merged_df.dropna()\n",
        "print(\"The number of shared cities is: \" + str(merged_df.shape[0]))\n",
        "\n",
        "num_not_shared = df_city.shape[0] - merged_df.shape[0]\n",
        "print(\"The number of not shared cities: \" + str(num_not_shared))\n"
      ],
      "execution_count": null,
      "outputs": [
        {
          "output_type": "stream",
          "name": "stdout",
          "text": [
            "The number of shared cities is: 1171\n",
            "The number of not shared cities: 44\n"
          ]
        }
      ]
    },
    {
      "cell_type": "markdown",
      "metadata": {
        "id": "a88i4h9-Lm7K"
      },
      "source": [
        "Creating new dataframe with only the shared cities"
      ]
    },
    {
      "cell_type": "code",
      "metadata": {
        "id": "aSVRFeUpB2th"
      },
      "source": [
        "# Compute and plot voting frequencies in all shared cities, vs. all of Israel\n",
        "df_socio_city = merged_df[names]\n",
        "p_shared = df_socio_city.sum().div(df_socio_city.sum().sum())\n",
        "p_all = df_city[names].sum().div(df_city[names].sum().sum())\n",
        "\n"
      ],
      "execution_count": null,
      "outputs": []
    },
    {
      "cell_type": "markdown",
      "metadata": {
        "id": "FOhcnvS5LuEu"
      },
      "source": [
        "Plotting the votes share for the 13 biggest parties in the shared dataframe vs. the regular (with all cities):"
      ]
    },
    {
      "cell_type": "code",
      "metadata": {
        "colab": {
          "base_uri": "https://localhost:8080/",
          "height": 400
        },
        "id": "dtMdvrylQnSZ",
        "outputId": "4f0af060-b070-4eb1-d471-24b2dc1ca8f6"
      },
      "source": [
        "# Bar plot for a party, only showing values above a certain threshold after fixing:\n",
        "def party_bar(p_all, p_socio):\n",
        "    width = 0.3  # set column width \n",
        "    n = len(total_votes)\n",
        "\n",
        "    rev_names = [name[::-1] for name in list(names)]\n",
        "    fig, ax = plt.subplots()  # plt.subplots()\n",
        "\n",
        "    p_all = ax.bar(np.arange(n), list(p_all), width, color='b')\n",
        "    p_socio = ax.bar(np.arange(n)+width, p_socio, width, color='r')\n",
        "\n",
        "    ax.set_ylabel('Votes percent')\n",
        "    ax.set_xlabel('Parties Names')\n",
        "    ax.set_title('Votes percent per party - simultions')\n",
        "    ax.set_xticks(np.arange(n))\n",
        "    ax.set_xticklabels(rev_names, rotation = 90)\n",
        "    ax.legend((p_all, p_socio,), ('p all cities', 'p only socio cities'))\n",
        "    plt.show()\n",
        "\n",
        "    return fig, ax\n",
        "\n",
        "party_bar(p_all, p_shared)\n"
      ],
      "execution_count": null,
      "outputs": [
        {
          "output_type": "display_data",
          "data": {
            "image/png": "[encoded data removed]",
            "text/plain": [
              "<Figure size 432x288 with 1 Axes>"
            ]
          },
          "metadata": {
            "needs_background": "light"
          }
        },
        {
          "output_type": "execute_result",
          "data": {
            "text/plain": [
              "(<Figure size 432x288 with 1 Axes>,\n",
              " <matplotlib.axes._subplots.AxesSubplot at 0x7fac823ea590>)"
            ]
          },
          "metadata": {},
          "execution_count": 46
        }
      ]
    },
    {
      "cell_type": "markdown",
      "metadata": {
        "id": "bDyAT6MjL60V"
      },
      "source": [
        "## Question 4: different socio-economic votting paterns"
      ]
    },
    {
      "cell_type": "code",
      "metadata": {
        "colab": {
          "base_uri": "https://localhost:8080/",
          "height": 357
        },
        "id": "E1OckLa7MUkj",
        "outputId": "d70d9f8e-1f06-4c1d-e7ad-9d9ec422f72a"
      },
      "source": [
        "#Compute voting frequencies for each party and each eshkol:\n",
        "p_dict = {name: [] for name in names}\n",
        "\n",
        "for eshkol in range(10): # run over each eshkol\n",
        "  # Find all cities in current eshkol. You can use np.where (similar to R which)\n",
        "  rel_cities = np.where(merged_df['eco_level'].values.astype('float') == eshkol+1)[0]\n",
        "  # Compute parties total votes for cities in current eshkol (do not normalize)\n",
        "  p = merged_df.iloc[rel_cities][names].sum() # .div(merged_df.iloc[rel_cities][names].sum().sum())\n",
        "\n",
        "  parties = p.keys()\n",
        "  for i in range(len(names)):\n",
        "    p_dict[parties[i]].append(p[i])\n",
        "p_df = pd.DataFrame(p_dict, index=list(range(1, 11)))\n",
        "p_df.head(10)"
      ],
      "execution_count": null,
      "outputs": [
        {
          "output_type": "execute_result",
          "data": {
            "text/html": [
              "<div>\n",
              "<style scoped>\n",
              "    .dataframe tbody tr th:only-of-type {\n",
              "        vertical-align: middle;\n",
              "    }\n",
              "\n",
              "    .dataframe tbody tr th {\n",
              "        vertical-align: top;\n",
              "    }\n",
              "\n",
              "    .dataframe thead th {\n",
              "        text-align: right;\n",
              "    }\n",
              "</style>\n",
              "<table border=\"1\" class=\"dataframe\">\n",
              "  <thead>\n",
              "    <tr style=\"text-align: right;\">\n",
              "      <th></th>\n",
              "      <th>הליכוד</th>\n",
              "      <th>יש עתיד</th>\n",
              "      <th>שס</th>\n",
              "      <th>כחול לבן</th>\n",
              "      <th>ימינה</th>\n",
              "      <th>עבודה</th>\n",
              "      <th>יהדות התורה</th>\n",
              "      <th>ישראל ביתנו</th>\n",
              "      <th>הציונות הדתית</th>\n",
              "      <th>הרשימה המשותפת</th>\n",
              "      <th>תקוה חדשה</th>\n",
              "      <th>מרצ</th>\n",
              "      <th>רעם</th>\n",
              "    </tr>\n",
              "  </thead>\n",
              "  <tbody>\n",
              "    <tr>\n",
              "      <th>1</th>\n",
              "      <td>2996</td>\n",
              "      <td>424</td>\n",
              "      <td>10353</td>\n",
              "      <td>133</td>\n",
              "      <td>200</td>\n",
              "      <td>199</td>\n",
              "      <td>33247</td>\n",
              "      <td>32</td>\n",
              "      <td>3058</td>\n",
              "      <td>8539</td>\n",
              "      <td>364</td>\n",
              "      <td>769</td>\n",
              "      <td>31712</td>\n",
              "    </tr>\n",
              "    <tr>\n",
              "      <th>2</th>\n",
              "      <td>74165</td>\n",
              "      <td>17771</td>\n",
              "      <td>87690</td>\n",
              "      <td>10136</td>\n",
              "      <td>22278</td>\n",
              "      <td>11598</td>\n",
              "      <td>138556</td>\n",
              "      <td>8254</td>\n",
              "      <td>40029</td>\n",
              "      <td>70727</td>\n",
              "      <td>11535</td>\n",
              "      <td>13062</td>\n",
              "      <td>55103</td>\n",
              "    </tr>\n",
              "    <tr>\n",
              "      <th>3</th>\n",
              "      <td>42500</td>\n",
              "      <td>8222</td>\n",
              "      <td>20635</td>\n",
              "      <td>4628</td>\n",
              "      <td>9320</td>\n",
              "      <td>4886</td>\n",
              "      <td>6682</td>\n",
              "      <td>12087</td>\n",
              "      <td>22164</td>\n",
              "      <td>71983</td>\n",
              "      <td>4942</td>\n",
              "      <td>8653</td>\n",
              "      <td>47487</td>\n",
              "    </tr>\n",
              "    <tr>\n",
              "      <th>4</th>\n",
              "      <td>66262</td>\n",
              "      <td>14804</td>\n",
              "      <td>20427</td>\n",
              "      <td>7291</td>\n",
              "      <td>9451</td>\n",
              "      <td>5497</td>\n",
              "      <td>8350</td>\n",
              "      <td>17369</td>\n",
              "      <td>12817</td>\n",
              "      <td>17390</td>\n",
              "      <td>7850</td>\n",
              "      <td>5048</td>\n",
              "      <td>11051</td>\n",
              "    </tr>\n",
              "    <tr>\n",
              "      <th>5</th>\n",
              "      <td>190079</td>\n",
              "      <td>48995</td>\n",
              "      <td>48951</td>\n",
              "      <td>21106</td>\n",
              "      <td>33507</td>\n",
              "      <td>13526</td>\n",
              "      <td>19175</td>\n",
              "      <td>60317</td>\n",
              "      <td>31957</td>\n",
              "      <td>11602</td>\n",
              "      <td>26081</td>\n",
              "      <td>8143</td>\n",
              "      <td>1673</td>\n",
              "    </tr>\n",
              "    <tr>\n",
              "      <th>6</th>\n",
              "      <td>137909</td>\n",
              "      <td>45157</td>\n",
              "      <td>29511</td>\n",
              "      <td>21152</td>\n",
              "      <td>32071</td>\n",
              "      <td>14836</td>\n",
              "      <td>5722</td>\n",
              "      <td>27687</td>\n",
              "      <td>23922</td>\n",
              "      <td>2074</td>\n",
              "      <td>21654</td>\n",
              "      <td>8735</td>\n",
              "      <td>338</td>\n",
              "    </tr>\n",
              "    <tr>\n",
              "      <th>7</th>\n",
              "      <td>251938</td>\n",
              "      <td>160976</td>\n",
              "      <td>46595</td>\n",
              "      <td>73949</td>\n",
              "      <td>61888</td>\n",
              "      <td>56347</td>\n",
              "      <td>16253</td>\n",
              "      <td>58421</td>\n",
              "      <td>37264</td>\n",
              "      <td>11625</td>\n",
              "      <td>55496</td>\n",
              "      <td>35522</td>\n",
              "      <td>648</td>\n",
              "    </tr>\n",
              "    <tr>\n",
              "      <th>8</th>\n",
              "      <td>181216</td>\n",
              "      <td>226481</td>\n",
              "      <td>26744</td>\n",
              "      <td>109998</td>\n",
              "      <td>59006</td>\n",
              "      <td>112315</td>\n",
              "      <td>6098</td>\n",
              "      <td>33134</td>\n",
              "      <td>25101</td>\n",
              "      <td>6312</td>\n",
              "      <td>52864</td>\n",
              "      <td>89217</td>\n",
              "      <td>1389</td>\n",
              "    </tr>\n",
              "    <tr>\n",
              "      <th>9</th>\n",
              "      <td>15376</td>\n",
              "      <td>31613</td>\n",
              "      <td>1063</td>\n",
              "      <td>16259</td>\n",
              "      <td>6019</td>\n",
              "      <td>14625</td>\n",
              "      <td>521</td>\n",
              "      <td>3305</td>\n",
              "      <td>1749</td>\n",
              "      <td>329</td>\n",
              "      <td>5980</td>\n",
              "      <td>11997</td>\n",
              "      <td>53</td>\n",
              "    </tr>\n",
              "    <tr>\n",
              "      <th>10</th>\n",
              "      <td>684</td>\n",
              "      <td>1238</td>\n",
              "      <td>23</td>\n",
              "      <td>667</td>\n",
              "      <td>154</td>\n",
              "      <td>356</td>\n",
              "      <td>12</td>\n",
              "      <td>197</td>\n",
              "      <td>48</td>\n",
              "      <td>13</td>\n",
              "      <td>155</td>\n",
              "      <td>432</td>\n",
              "      <td>5</td>\n",
              "    </tr>\n",
              "  </tbody>\n",
              "</table>\n",
              "</div>"
            ],
            "text/plain": [
              "    הליכוד  יש עתיד     שס  כחול לבן  ...  הרשימה המשותפת  תקוה חדשה    מרצ    רעם\n",
              "1     2996      424  10353       133  ...            8539        364    769  31712\n",
              "2    74165    17771  87690     10136  ...           70727      11535  13062  55103\n",
              "3    42500     8222  20635      4628  ...           71983       4942   8653  47487\n",
              "4    66262    14804  20427      7291  ...           17390       7850   5048  11051\n",
              "5   190079    48995  48951     21106  ...           11602      26081   8143   1673\n",
              "6   137909    45157  29511     21152  ...            2074      21654   8735    338\n",
              "7   251938   160976  46595     73949  ...           11625      55496  35522    648\n",
              "8   181216   226481  26744    109998  ...            6312      52864  89217   1389\n",
              "9    15376    31613   1063     16259  ...             329       5980  11997     53\n",
              "10     684     1238     23       667  ...              13        155    432      5\n",
              "\n",
              "[10 rows x 13 columns]"
            ]
          },
          "metadata": {},
          "execution_count": 65
        }
      ]
    },
    {
      "cell_type": "code",
      "metadata": {
        "colab": {
          "base_uri": "https://localhost:8080/",
          "height": 618
        },
        "id": "cX2nGWbMO_KI",
        "outputId": "123e7df9-faa9-42f8-e595-93d1fa9ebcd3"
      },
      "source": [
        "def votes_percent_by_socio(df):\n",
        "    fig, ax = plt.subplots(2, 5, figsize=(20,8))\n",
        "    names_r = [n[::-1] for n in names]\n",
        "\n",
        "    x = names\n",
        "    for eshkol in range(10):      \n",
        "        ax[eshkol//5, eshkol%5].bar(x, df.loc[eshkol+1].div(sum(df.loc[eshkol+1])))\n",
        "        ax[eshkol//5, eshkol%5].set_title(\"Eshkol \" + str(eshkol+1), fontsize=14)\n",
        "    for ax in ax.flat:\n",
        "        ax.set_xticklabels(names_r, rotation=90, fontsize=10)\n",
        "        ax.set_ylabel('percent per party', fontsize=12)\n",
        "\n",
        "    fig.tight_layout()     \n",
        "    plt.show()\n",
        "    return fig, ax\n",
        "\n",
        "votes_percent_by_socio(p_df)"
      ],
      "execution_count": null,
      "outputs": [
        {
          "output_type": "display_data",
          "data": {
            "image/png": "[encoded data removed]",
            "text/plain": [
              "<Figure size 1440x576 with 10 Axes>"
            ]
          },
          "metadata": {
            "needs_background": "light"
          }
        },
        {
          "output_type": "execute_result",
          "data": {
            "text/plain": [
              "(<Figure size 1440x576 with 10 Axes>,\n",
              " <matplotlib.axes._subplots.AxesSubplot at 0x7fac77cbcc90>)"
            ]
          },
          "metadata": {},
          "execution_count": 66
        }
      ]
    },
    {
      "cell_type": "code",
      "metadata": {
        "colab": {
          "base_uri": "https://localhost:8080/",
          "height": 762
        },
        "id": "1GiPN2gIr1Hc",
        "outputId": "148c8b1a-8ec0-4374-ff21-e51f5789f414"
      },
      "source": [
        "# subplots for each party by socio Eshkol\n",
        "def votes_percent_per_party_socio(df):\n",
        "    fig, ax = plt.subplots(4, 4, figsize=(20,10))\n",
        "\n",
        "    n = 10 # number of eshkols\n",
        "    names_rev = [n[::-1] for n in names]\n",
        "    for party in range(len(names)):    \n",
        "        ax[party//4, party%4].bar(np.arange(n), df[names[party]].div(sum(df[names[party]])))\n",
        "        ax[party//4, party%4].set_title(names_rev[party], fontsize=14)\n",
        "\n",
        "    y_perc = np.round(np.arange(0,1,0.1),1).tolist()\n",
        "    for ax in ax.flat:\n",
        "        ax.set_xticklabels(np.arange(10)+1, fontsize=12)\n",
        "        ax.xaxis.set_ticks(np.arange(0, 10, 1))\n",
        "        ax.set_ylabel('Percent of votes', fontsize=12)\n",
        "        ax.set_xlabel('social Eshkol', fontsize=12)\n",
        "        ax.set_yticklabels(y_perc, fontsize=12)\n",
        "    fig.tight_layout() \n",
        "    plt.show()\n",
        "    return fig, ax\n",
        "\n",
        "p_df_t = pd.DataFrame(np.array(p_df).T, index=p_df.columns)\n",
        "votes_percent_per_party_socio(p_df)"
      ],
      "execution_count": null,
      "outputs": [
        {
          "output_type": "display_data",
          "data": {
            "image/png": "[encoded data removed]",
            "text/plain": [
              "<Figure size 1440x720 with 16 Axes>"
            ]
          },
          "metadata": {
            "needs_background": "light"
          }
        },
        {
          "output_type": "execute_result",
          "data": {
            "text/plain": [
              "(<Figure size 1440x720 with 16 Axes>,\n",
              " <matplotlib.axes._subplots.AxesSubplot at 0x7fac7757c1d0>)"
            ]
          },
          "metadata": {},
          "execution_count": 67
        }
      ]
    }
  ]
}