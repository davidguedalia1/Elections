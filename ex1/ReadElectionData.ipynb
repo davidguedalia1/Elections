{
 "cells": [
  {
   "cell_type": "markdown",
   "metadata": {
    "id": "lyQ45Phps6Z6"
   },
   "source": [
    "# **Israel Elections Data Analysis - lab 1**\n",
    "\n",
    "An example notebook showing how to read and display the Israel 2021 elections results. This is the notebook for the first week.\n",
    "\n",
    "In this work we used the example notebook that was in the lesson, and added  changes to it, as instructed in the lab instructions. "
   ]
  },
  {
   "cell_type": "code",
   "execution_count": 13,
   "metadata": {
    "colab": {
     "base_uri": "https://localhost:8080/"
    },
    "id": "eRKSr5EstAUm",
    "outputId": "a2165b14-0360-447a-d6a4-b0c02f39ae1e"
   },
   "outputs": [
    {
     "name": "stdout",
     "output_type": "stream",
     "text": [
      "Running locally on Jupyter\n"
     ]
    }
   ],
   "source": [
    "# Add a check if we run in google colab or locally in jupyter notebook\n",
    "run_in_colab = False\n",
    "if 'google.colab' in str(get_ipython()):\n",
    "    run_in_colab = True\n",
    "    print('Running on CoLab')\n",
    "else:\n",
    "    print('Running locally on Jupyter')\n",
    "\n"
   ]
  },
  {
   "cell_type": "code",
   "execution_count": 14,
   "metadata": {
    "id": "FTNiH27ZzL1F"
   },
   "outputs": [],
   "source": [
    "# First install tha needed packages using conda in the current Jupyter kernel\n",
    "# Run once - should take a long time!\n",
    "import sys\n",
    "#if not(run_in_colab):\n",
    "#  !conda install --yes --prefix {sys.prefix} numpy\n",
    "#  !conda install --yes --prefix {sys.prefix} pandas\n",
    "#  !conda install --yes --prefix {sys.prefix} matplotlib\n",
    "#  !conda install --yes --prefix {sys.prefix} statsmodels  # statistical modelling \n",
    "#  !conda install --yes --prefix {sys.prefix} xlrd  # read excel \n",
    "\n",
    "\n",
    "\n",
    "# Alternatively, if your python wasn't installed using anaconda, we can use pip install: \n",
    "# !{sys.executable} -m pip install numpy\n",
    "# !{sys.executable} -m pip install pandas\n",
    "# !{sys.executable} -m pip install matplotlib\n"
   ]
  },
  {
   "cell_type": "code",
   "execution_count": 32,
   "metadata": {
    "colab": {
     "base_uri": "https://localhost:8080/"
    },
    "id": "iC0NlMvHzL1L",
    "outputId": "7a8474be-d2da-43b9-da86-92ad50541caa"
   },
   "outputs": [],
   "source": [
    "# Import modules \n",
    "import numpy as np  # a module for working with numerical array \n",
    "import pandas as pd  # a module for working with data-frames\n",
    "import statsmodels.api as sm  # a module for statistical modelling (e.g. regression analysis)\n",
    "import matplotlib.pyplot as plt\n"
   ]
  },
  {
   "cell_type": "markdown",
   "metadata": {
    "id": "_2ajWZczw6ZS"
   },
   "source": [
    "*** "
   ]
  },
  {
   "cell_type": "markdown",
   "metadata": {
    "id": "32lyHGnAxBfY"
   },
   "source": [
    "***upload the data***"
   ]
  },
  {
   "cell_type": "markdown",
   "metadata": {
    "id": "pGTS_zCRZGfV"
   },
   "source": [
    "First, we need to mount our local drive to the colab network"
   ]
  },
  {
   "cell_type": "code",
   "execution_count": 33,
   "metadata": {
    "colab": {
     "base_uri": "https://localhost:8080/"
    },
    "id": "RWSJpsyKqHjH",
    "outputId": "48ef27c9-a5df-4f7f-b22b-8c55e0cdb821"
   },
   "outputs": [],
   "source": [
    "# Mount drive in google colab\n",
    "if run_in_colab:\n",
    "    from google.colab import drive\n",
    "    drive.mount('/content/drive')\n",
    "else:  # Set local path \n",
    "    data_path = \"C:/Users/david/Desktop/third-year/A/lab-statistics/\"  \n"
   ]
  },
  {
   "cell_type": "markdown",
   "metadata": {
    "id": "rhT6LiKVwpdy"
   },
   "source": [
    "Another option is to upload the data directly"
   ]
  },
  {
   "cell_type": "code",
   "execution_count": 34,
   "metadata": {
    "colab": {
     "base_uri": "https://localhost:8080/",
     "height": 73,
     "resources": {
      "http://localhost:8080/nbextensions/google.colab/files.js": {
       "data": "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",
       "headers": [
        [
         "content-type",
         "application/javascript"
        ]
       ],
       "ok": true,
       "status": 200,
       "status_text": ""
      }
     }
    },
    "id": "xaG-KYCw8XZz",
    "outputId": "545ce215-7908-49be-dd36-bbfb5f9e0bc6"
   },
   "outputs": [],
   "source": [
    "# Loading elections 2021 elections data:\n",
    "if run_in_colab:\n",
    "    from google.colab import files\n",
    "    uploaded = files.upload()"
   ]
  },
  {
   "cell_type": "code",
   "execution_count": 35,
   "metadata": {
    "id": "QxK5YlBH1geD"
   },
   "outputs": [],
   "source": [
    "import io\n",
    "\n",
    "data_type = \"city\" # \"ballot\"  # city\n",
    "if   run_in_colab:\n",
    "    df_2021_raw = pd.read_csv(io.BytesIO(uploaded['votes per city 2021.csv']),  encoding = 'iso-8859-8', index_col='שם ישוב')\n",
    "else:  # read local file\n",
    "    if data_type == \"ballot\":\n",
    "        df_2021_raw = pd.read_csv(data_path + 'votes per ballot 2021.csv',  encoding = 'iso-8859-8', index_col='שם ישוב')\n",
    "        # preprocessing of ballot\n",
    "        df_2021 = df_2021_raw.drop('סמל ועדה', axis=1) # new column added in Sep 2019\n",
    "        df_2021 = df_2021[df_2021.columns[8:-1]] # removing \"metadata\" columns\n",
    "    else:\n",
    "        df_2021_raw = pd.read_csv(data_path + 'votes per city 2021.csv',  encoding = 'iso-8859-8', index_col='שם ישוב')\n",
    "        # preprocessing of cities \n",
    "        df_2021 = df_2021_raw.drop('סמל ועדה', axis=1) # new column added in Sep 2019\n",
    "        df_2021 = df_2021[df_2021.columns[5:-1]] # removing \"metadata\" columns\n",
    "# Dataset is now stored in a Pandas Dataframe\n"
   ]
  },
  {
   "cell_type": "markdown",
   "metadata": {
    "id": "a2EEJ-X5YXHm"
   },
   "source": [
    "Q1:\n"
   ]
  },
  {
   "cell_type": "code",
   "execution_count": 36,
   "metadata": {
    "colab": {
     "base_uri": "https://localhost:8080/",
     "height": 362
    },
    "id": "DxC3U1o3VBye",
    "outputId": "8173fb41-729f-4dfb-8a4f-8d58a399bd01"
   },
   "outputs": [
    {
     "data": {
      "image/png": "[encoded data removed]",
      "text/plain": [
       "<Figure size 432x288 with 1 Axes>"
      ]
     },
     "metadata": {
      "needs_background": "light"
     },
     "output_type": "display_data"
    },
    {
     "name": "stdout",
     "output_type": "stream",
     "text": [
      "the 3 cities with the heigsht precentage of disqualified votes are:\n",
      "סואעד חמרייה: 3.774\n",
      "ניין: 3.649\n",
      "מאיר שפיה: 3.448\n"
     ]
    }
   ],
   "source": [
    "# QUESTION 1\n",
    "\n",
    "import matplotlib.pyplot as plt\n",
    "\n",
    "rejected = df_2021_raw[\"פסולים\"][:-1] # the -1 is to take out the: מעטפות חיצוניות\n",
    "votes = df_2021_raw[\"מצביעים\"][:-1]\n",
    "\n",
    "rejected_np = rejected.to_numpy()\n",
    "votes_np = votes.to_numpy()\n",
    "precent_per_city = rejected_np * 100 / votes_np\n",
    "\n",
    "m = np.max(precent_per_city)\n",
    "city_names = df_2021_raw.index.values\n",
    "plt.hist(precent_per_city, 50, range=[0, m])\n",
    "plt.title(\"histogram of precentage of disqualified votes\")\n",
    "plt.ylabel(\"count\")\n",
    "plt.xlabel(\"precent\")\n",
    "plt.show()\n",
    "\n",
    "n = 3 # number of max precent cities to take\n",
    "indices = (-precent_per_city).argsort()[:n]\n",
    "print(\"the 3 cities with the heigsht precentage of disqualified votes are:\")\n",
    "# print(city_names[indices[0]])\n",
    "print(city_names[indices[0]] + \": \" + str(np.round(precent_per_city[indices[0]], 3)))\n",
    "print(city_names[indices[1]] + \": \" + str(np.round(precent_per_city[indices[1]], 3)))\n",
    "print(city_names[indices[2]] + \": \" + str(np.round(precent_per_city[indices[2]], 3)))"
   ]
  },
  {
   "cell_type": "markdown",
   "metadata": {
    "id": "20N3MWRAYShC"
   },
   "source": [
    "Q2:"
   ]
  },
  {
   "cell_type": "code",
   "execution_count": 37,
   "metadata": {
    "colab": {
     "base_uri": "https://localhost:8080/",
     "height": 1000
    },
    "id": "MFGjziw3CQ9B",
    "outputId": "b501a037-6ca8-4f44-b391-93ccfd2ef67f"
   },
   "outputs": [
    {
     "name": "stdout",
     "output_type": "stream",
     "text": [
      "['אשדוד' 'אשקלון']\n"
     ]
    },
    {
     "data": {
      "image/png": "[encoded data removed]",
      "text/plain": [
       "<Figure size 432x288 with 1 Axes>"
      ]
     },
     "metadata": {
      "needs_background": "light"
     },
     "output_type": "display_data"
    },
    {
     "data": {
      "image/png": "[encoded data removed]",
      "text/plain": [
       "<Figure size 432x288 with 1 Axes>"
      ]
     },
     "metadata": {
      "needs_background": "light"
     },
     "output_type": "display_data"
    },
    {
     "data": {
      "image/png": "[encoded data removed]",
      "text/plain": [
       "<Figure size 432x288 with 1 Axes>"
      ]
     },
     "metadata": {
      "needs_background": "light"
     },
     "output_type": "display_data"
    },
    {
     "data": {
      "text/plain": [
       "(<Figure size 432x288 with 1 Axes>,\n",
       " <AxesSubplot:title={'center':'Tow Citys Votes percent per party 2021'}, xlabel='Parties Names', ylabel='Votes percent'>)"
      ]
     },
     "execution_count": 37,
     "metadata": {},
     "output_type": "execute_result"
    }
   ],
   "source": [
    "# QUESTION 2:\n",
    "\n",
    "df_2021 = df_2021_raw.drop('סמל ועדה', axis=1) # new column added in Sep 2019\n",
    "df_2021 = df_2021[df_2021.columns[5:-1]] # removing \"metadata\" columns\n",
    "# Compute votes share only for parties above a certain threshold \n",
    "def parties_votes_percents(df, thresh):\n",
    "    par = df.sum().div(df.sum().sum()).sort_values(ascending=False)\n",
    "    return par[par > thresh]\n",
    "\n",
    "\n",
    "def tow_city_threshold(df, thresh , city1, city2):\n",
    "    width = 0.3  # set column width \n",
    "    votes = parties_votes_percents(df, thresh)  # total votes for each party\n",
    "    n = len(votes)  # number of parties\n",
    "    names = votes.keys()\n",
    "\n",
    "    rev_names = [name[::-1] for name in list(names)]\n",
    "    fig, ax = plt.subplots()  # plt.subplots()\n",
    "\n",
    "    city1_votes = df.loc[city1,names] / df.loc[city1,names].sum()\n",
    "    city2_votes = df.loc[city2,names] / df.loc[city2,names].sum()\n",
    "    city1_bar = ax.bar(np.arange(n), list(city1_votes), width, color='b')\n",
    "    city2_bar = ax.bar(np.arange(n)+width, list(city2_votes), width, color='r')\n",
    "\n",
    "    ax.set_ylabel('Votes percent')\n",
    "    ax.set_xlabel('Parties Names')\n",
    "    ax.set_title('Tow Citys Votes percent per party 2021')\n",
    "    ax.set_xticks(np.arange(n))\n",
    "    ax.set_xticklabels(rev_names)\n",
    "    ax.legend((city1_bar[0], city2_bar[0]), (city1[::-1], city2[::-1]))\n",
    "    plt.show()\n",
    "\n",
    "    return fig, ax\n",
    "\n",
    "\n",
    "big_votes = votes[votes > 50000][0:2]\n",
    "medium_votes = votes[votes < 50000]\n",
    "medium_votes = medium_votes[medium_votes > 5000][0:2]\n",
    "small_votes = votes[votes < 5000][0:2]\n",
    "\n",
    "print(big_votes.index.values)\n",
    "#אשדוד-אשקלון\n",
    "tow_city_threshold(df_2021, 0.0325, big_votes.index.values[0], big_votes.index.values[1]) \n",
    "#ניתן לראות כי לאשדוד ואשקלון יש יחס דומה בהצבעות עבור המפלגות\n",
    "# בנוסף ניתן לראות כי ההבדל העיקרי בין שתי הערים הוא המפלגה החרדית וניתן להסיק כי יש ציבור חרדי גדול באשדוד\n",
    "\n",
    "#טבריה-שדרות\n",
    "tow_city_threshold(df_2021, 0.0325, medium_votes.index.values[0], medium_votes.index.values[1])\n",
    "#גם כאן ניתן לראות יחס דומה של הצבעות\n",
    "#אך ניתן לראות כי בטסריה יש תמיכה רבה יותר במפלגות החרדיות מאשר שדרות\n",
    "# ובנוסף בשדרות אחוז התמיכה במפלגת \"הבית היהודי\" גבוה בהרבה מיזה של טבריה\n",
    "\n",
    "#אבירים-אדירים\n",
    "tow_city_threshold(df_2021, 0.0325, small_votes.index.values[0], small_votes.index.values[1])\n",
    "# כאן ניתן לראות כי יש הבדל גדול מאוד בהצבעה עבור מפלגות וכי באבירים יש תמיכה במפלגות \"מרכז-שמאל.\n",
    "# בניגוד ךאדירים כי יש תמיכה רבה יותר במפלגות הימין\n"
   ]
  },
  {
   "cell_type": "code",
   "execution_count": 39,
   "metadata": {
    "colab": {
     "base_uri": "https://localhost:8080/",
     "height": 1000
    },
    "id": "fuTc-bSXaoGn",
    "outputId": "4bb395bc-6d3b-4ef3-a306-ca0c49b5409b"
   },
   "outputs": [
    {
     "name": "stdout",
     "output_type": "stream",
     "text": [
      "אמת      34269\n",
      "ב        39693\n",
      "ג        13767\n",
      "ודעם     11186\n",
      "ז           88\n",
      "זץ          93\n",
      "ט        27130\n",
      "י           82\n",
      "יז        3876\n",
      "ינ          41\n",
      "יף          28\n",
      "יק          44\n",
      "יר          30\n",
      "כ           69\n",
      "כך         105\n",
      "כן       26736\n",
      "ל        27483\n",
      "מחל     103036\n",
      "מרצ      20403\n",
      "נ           95\n",
      "ני          58\n",
      "נר          44\n",
      "עם        6627\n",
      "פה       58002\n",
      "ףז         501\n",
      "צי          79\n",
      "צכ          43\n",
      "צף          34\n",
      "ץ           69\n",
      "ק          106\n",
      "קי          77\n",
      "קך          59\n",
      "קץ         101\n",
      "ר         1303\n",
      "רנ         144\n",
      "רף          77\n",
      "רק           0\n",
      "שס       23964\n",
      "ת        22077\n",
      "Name: מעטפות חיצוניות, dtype: int64\n"
     ]
    },
    {
     "data": {
      "image/png": "[encoded data removed]",
      "text/plain": [
       "<Figure size 432x288 with 1 Axes>"
      ]
     },
     "metadata": {
      "needs_background": "light"
     },
     "output_type": "display_data"
    },
    {
     "data": {
      "image/png": "[encoded data removed]",
      "text/plain": [
       "<Figure size 432x288 with 1 Axes>"
      ]
     },
     "metadata": {
      "needs_background": "light"
     },
     "output_type": "display_data"
    },
    {
     "name": "stdout",
     "output_type": "stream",
     "text": [
      "[857 727]\n"
     ]
    },
    {
     "data": {
      "image/png": "[encoded data removed]",
      "text/plain": [
       "<Figure size 432x288 with 1 Axes>"
      ]
     },
     "metadata": {
      "needs_background": "light"
     },
     "output_type": "display_data"
    },
    {
     "data": {
      "image/png": "[encoded data removed]",
      "text/plain": [
       "<Figure size 432x288 with 1 Axes>"
      ]
     },
     "metadata": {
      "needs_background": "light"
     },
     "output_type": "display_data"
    }
   ],
   "source": [
    "# Question 3\n",
    "def parties_votes_percents_no_order(df, thresh):\n",
    "    par = df.sum().div(df.sum().sum())\n",
    "    return par[par >= thresh]\n",
    "\n",
    "votes_per_party_raw = parties_votes_percents_no_order(df_2021, 0)\n",
    "votes_per_party = votes_per_party_raw.to_numpy()\n",
    "\n",
    "\n",
    "# Function to calculate the MSE between two vectors.\n",
    "def MSE(vec1, vec2):\n",
    "    return np.sum((vec1 - vec2) ** 2)\n",
    "\n",
    "   \n",
    "total = []    \n",
    "# Calculate every MSE and add it to total array.\n",
    "for row in df_2021.iterrows():\n",
    "  total.append(MSE((row[1].to_numpy() / np.sum(row[1].to_numpy())), votes_per_party))\n",
    "\n",
    "# Convert the input to an array.\n",
    "total = np.asarray(total)\n",
    "\n",
    "# All elements smaller than the 2-th element are moved before this element\n",
    "# and all equal or greater are moved behind it. The ordering of the elements\n",
    "# in the two partitions is undefined\n",
    "\n",
    "idx = np.argpartition(total, 2)\n",
    "first = df_2021.iloc[idx[0]]\n",
    "second = df_2021.iloc[idx[1]]\n",
    "first = first / np.sum(first)\n",
    "second = second / np.sum(second)\n",
    "\n",
    "\n",
    "# data for plot\n",
    "n_groups = len(first)\n",
    "index = np.arange(n_groups)\n",
    "bar_width = 0.5\n",
    "opacity = 0.8\n",
    "\n",
    "fig, ax = plt.subplots()\n",
    "rects1 = plt.bar(index, first, bar_width, alpha=opacity, color='b',label='1st best match')\n",
    "rects2 = plt.bar(index + bar_width, votes_per_party, bar_width, alpha=opacity, color='g', label='all votes')\n",
    "plt.xlabel('Parties')\n",
    "plt.ylabel('vote precente')\n",
    "plt.title('votes precent 1st best match')\n",
    "plt.xticks(index + bar_width)\n",
    "plt.legend()\n",
    "plt.show()\n",
    "\n",
    "fig, ax = plt.subplots()\n",
    "rects1 = plt.bar(index, second, bar_width, alpha=opacity, color='b',label=' 2nd best match')\n",
    "rects2 = plt.bar(index + bar_width, votes_per_party, bar_width, alpha=opacity, color='g', label='all votes')\n",
    "plt.xlabel('Parties')\n",
    "plt.ylabel('vote precente')\n",
    "plt.title('votes precent 2nd best match')\n",
    "plt.xticks(index + bar_width)\n",
    "plt.legend()\n",
    "# plt.tight_layout()\n",
    "plt.show()\n",
    "\n",
    "\n",
    "idx = np.argpartition(total, -2)[-2:]\n",
    "print(idx)\n",
    "first = df_2021.iloc[idx[0]]\n",
    "second = df_2021.iloc[idx[1]]\n",
    "first = first / np.sum(first)\n",
    "second = second / np.sum(second)\n",
    "\n",
    "\n",
    "fig, ax = plt.subplots()\n",
    "rects1 = plt.bar(index, first, bar_width, alpha=opacity, color='b',label='1st worst match')\n",
    "rects2 = plt.bar(index + bar_width, votes_per_party, bar_width, alpha=opacity, color='g', label='all votes')\n",
    "plt.xlabel('Parties')\n",
    "plt.ylabel('vote precente')\n",
    "plt.title('votes precent 1st worst match')\n",
    "plt.xticks(index + bar_width)\n",
    "plt.legend()\n",
    "# plt.tight_layout()\n",
    "plt.show()\n",
    "\n",
    "fig, ax = plt.subplots()\n",
    "rects1 = plt.bar(index, second, bar_width, alpha=opacity, color='b',label=' 2nd worst match')\n",
    "rects2 = plt.bar(index + bar_width, votes_per_party, bar_width, alpha=opacity, color='g', label='all votes')\n",
    "plt.xlabel('Parties')\n",
    "plt.ylabel('vote precente')\n",
    "plt.title('votes precent 2nd worst match')\n",
    "plt.xticks(index + bar_width)\n",
    "plt.legend()\n",
    "# plt.tight_layout()\n",
    "plt.show()\n",
    "\n",
    "\n"
   ]
  },
  {
   "cell_type": "markdown",
   "metadata": {
    "id": "SPBLNobQCQVB"
   },
   "source": []
  },
  {
   "cell_type": "code",
   "execution_count": 23,
   "metadata": {
    "colab": {
     "base_uri": "https://localhost:8080/"
    },
    "id": "PVfhjKgS16sL",
    "outputId": "35d2877c-5b1d-4943-ee8a-746cad06f69b"
   },
   "outputs": [
    {
     "name": "stdout",
     "output_type": "stream",
     "text": [
      "421619 votes in March 2021 מעטפות חיצוניות \n"
     ]
    }
   ],
   "source": [
    "df_2021 = df_2021_raw.drop('סמל ועדה', axis=1) # new column added in Sep 2019\n",
    "df_2021 = df_2021[df_2021.columns[5:-1]] # removing \"metadata\" columns\n",
    "print(\"{} votes in March 2021\".format(df_2021_raw['כשרים']['מעטפות חיצוניות']) + ' מעטפות חיצוניות ')\n"
   ]
  },
  {
   "cell_type": "code",
   "execution_count": 24,
   "metadata": {
    "colab": {
     "base_uri": "https://localhost:8080/",
     "height": 334
    },
    "id": "YFjNVxdWjgf1",
    "outputId": "bd4498b2-eea6-437f-bf09-0fb48eddbacf"
   },
   "outputs": [
    {
     "name": "stdout",
     "output_type": "stream",
     "text": [
      "Index(['סמל ועדה', 'סמל ישוב', 'בזב', 'מצביעים', 'פסולים', 'כשרים', 'אמת', 'ב',\n",
      "       'ג', 'ודעם', 'ז', 'זץ', 'ט', 'י', 'יז', 'ינ', 'יף', 'יק', 'יר', 'כ',\n",
      "       'כך', 'כן', 'ל', 'מחל', 'מרצ', 'נ', 'ני', 'נר', 'עם', 'פה', 'ףז', 'צי',\n",
      "       'צכ', 'צף', 'ץ', 'ק', 'קי', 'קך', 'קץ', 'ר', 'רנ', 'רף', 'רק', 'שס',\n",
      "       'ת', 'Unnamed: 46'],\n",
      "      dtype='object')\n"
     ]
    },
    {
     "data": {
      "text/html": [
       "<div>\n",
       "<style scoped>\n",
       "    .dataframe tbody tr th:only-of-type {\n",
       "        vertical-align: middle;\n",
       "    }\n",
       "\n",
       "    .dataframe tbody tr th {\n",
       "        vertical-align: top;\n",
       "    }\n",
       "\n",
       "    .dataframe thead th {\n",
       "        text-align: right;\n",
       "    }\n",
       "</style>\n",
       "<table border=\"1\" class=\"dataframe\">\n",
       "  <thead>\n",
       "    <tr style=\"text-align: right;\">\n",
       "      <th></th>\n",
       "      <th>אמת</th>\n",
       "      <th>ב</th>\n",
       "      <th>ג</th>\n",
       "      <th>ודעם</th>\n",
       "      <th>ז</th>\n",
       "      <th>זץ</th>\n",
       "      <th>ט</th>\n",
       "      <th>י</th>\n",
       "      <th>יז</th>\n",
       "      <th>ינ</th>\n",
       "      <th>...</th>\n",
       "      <th>ק</th>\n",
       "      <th>קי</th>\n",
       "      <th>קך</th>\n",
       "      <th>קץ</th>\n",
       "      <th>ר</th>\n",
       "      <th>רנ</th>\n",
       "      <th>רף</th>\n",
       "      <th>רק</th>\n",
       "      <th>שס</th>\n",
       "      <th>ת</th>\n",
       "    </tr>\n",
       "    <tr>\n",
       "      <th>שם ישוב</th>\n",
       "      <th></th>\n",
       "      <th></th>\n",
       "      <th></th>\n",
       "      <th></th>\n",
       "      <th></th>\n",
       "      <th></th>\n",
       "      <th></th>\n",
       "      <th></th>\n",
       "      <th></th>\n",
       "      <th></th>\n",
       "      <th></th>\n",
       "      <th></th>\n",
       "      <th></th>\n",
       "      <th></th>\n",
       "      <th></th>\n",
       "      <th></th>\n",
       "      <th></th>\n",
       "      <th></th>\n",
       "      <th></th>\n",
       "      <th></th>\n",
       "      <th></th>\n",
       "    </tr>\n",
       "  </thead>\n",
       "  <tbody>\n",
       "    <tr>\n",
       "      <th>אבירים</th>\n",
       "      <td>47</td>\n",
       "      <td>0</td>\n",
       "      <td>0</td>\n",
       "      <td>3</td>\n",
       "      <td>0</td>\n",
       "      <td>0</td>\n",
       "      <td>2</td>\n",
       "      <td>0</td>\n",
       "      <td>3</td>\n",
       "      <td>0</td>\n",
       "      <td>...</td>\n",
       "      <td>0</td>\n",
       "      <td>0</td>\n",
       "      <td>0</td>\n",
       "      <td>0</td>\n",
       "      <td>5</td>\n",
       "      <td>0</td>\n",
       "      <td>0</td>\n",
       "      <td>0</td>\n",
       "      <td>1</td>\n",
       "      <td>8</td>\n",
       "    </tr>\n",
       "    <tr>\n",
       "      <th>אדירים</th>\n",
       "      <td>1</td>\n",
       "      <td>7</td>\n",
       "      <td>4</td>\n",
       "      <td>0</td>\n",
       "      <td>0</td>\n",
       "      <td>0</td>\n",
       "      <td>9</td>\n",
       "      <td>0</td>\n",
       "      <td>1</td>\n",
       "      <td>0</td>\n",
       "      <td>...</td>\n",
       "      <td>0</td>\n",
       "      <td>0</td>\n",
       "      <td>0</td>\n",
       "      <td>0</td>\n",
       "      <td>2</td>\n",
       "      <td>0</td>\n",
       "      <td>0</td>\n",
       "      <td>0</td>\n",
       "      <td>61</td>\n",
       "      <td>6</td>\n",
       "    </tr>\n",
       "    <tr>\n",
       "      <th>אושה</th>\n",
       "      <td>72</td>\n",
       "      <td>7</td>\n",
       "      <td>0</td>\n",
       "      <td>3</td>\n",
       "      <td>0</td>\n",
       "      <td>0</td>\n",
       "      <td>0</td>\n",
       "      <td>0</td>\n",
       "      <td>2</td>\n",
       "      <td>0</td>\n",
       "      <td>...</td>\n",
       "      <td>0</td>\n",
       "      <td>0</td>\n",
       "      <td>0</td>\n",
       "      <td>0</td>\n",
       "      <td>1</td>\n",
       "      <td>0</td>\n",
       "      <td>0</td>\n",
       "      <td>0</td>\n",
       "      <td>0</td>\n",
       "      <td>15</td>\n",
       "    </tr>\n",
       "    <tr>\n",
       "      <th>אחווה</th>\n",
       "      <td>14</td>\n",
       "      <td>4</td>\n",
       "      <td>0</td>\n",
       "      <td>0</td>\n",
       "      <td>0</td>\n",
       "      <td>0</td>\n",
       "      <td>4</td>\n",
       "      <td>0</td>\n",
       "      <td>0</td>\n",
       "      <td>0</td>\n",
       "      <td>...</td>\n",
       "      <td>0</td>\n",
       "      <td>0</td>\n",
       "      <td>0</td>\n",
       "      <td>0</td>\n",
       "      <td>0</td>\n",
       "      <td>0</td>\n",
       "      <td>0</td>\n",
       "      <td>0</td>\n",
       "      <td>2</td>\n",
       "      <td>8</td>\n",
       "    </tr>\n",
       "    <tr>\n",
       "      <th>איבים</th>\n",
       "      <td>0</td>\n",
       "      <td>4</td>\n",
       "      <td>0</td>\n",
       "      <td>0</td>\n",
       "      <td>0</td>\n",
       "      <td>1</td>\n",
       "      <td>10</td>\n",
       "      <td>0</td>\n",
       "      <td>0</td>\n",
       "      <td>0</td>\n",
       "      <td>...</td>\n",
       "      <td>0</td>\n",
       "      <td>0</td>\n",
       "      <td>1</td>\n",
       "      <td>0</td>\n",
       "      <td>0</td>\n",
       "      <td>0</td>\n",
       "      <td>0</td>\n",
       "      <td>0</td>\n",
       "      <td>1</td>\n",
       "      <td>0</td>\n",
       "    </tr>\n",
       "  </tbody>\n",
       "</table>\n",
       "<p>5 rows × 39 columns</p>\n",
       "</div>"
      ],
      "text/plain": [
       "         אמת  ב  ג  ודעם  ז  זץ   ט  י  יז  ינ  ...  ק  קי  קך  קץ  ר  רנ  רף  \\\n",
       "שם ישוב                                         ...                             \n",
       "אבירים    47  0  0     3  0   0   2  0   3   0  ...  0   0   0   0  5   0   0   \n",
       "אדירים     1  7  4     0  0   0   9  0   1   0  ...  0   0   0   0  2   0   0   \n",
       "אושה      72  7  0     3  0   0   0  0   2   0  ...  0   0   0   0  1   0   0   \n",
       "אחווה     14  4  0     0  0   0   4  0   0   0  ...  0   0   0   0  0   0   0   \n",
       "איבים      0  4  0     0  0   1  10  0   0   0  ...  0   0   1   0  0   0   0   \n",
       "\n",
       "         רק  שס   ת  \n",
       "שם ישוב              \n",
       "אבירים    0   1   8  \n",
       "אדירים    0  61   6  \n",
       "אושה      0   0  15  \n",
       "אחווה     0   2   8  \n",
       "איבים     0   1   0  \n",
       "\n",
       "[5 rows x 39 columns]"
      ]
     },
     "execution_count": 24,
     "metadata": {},
     "output_type": "execute_result"
    }
   ],
   "source": [
    "print(df_2021_raw.columns)\n",
    "df_2021.head()\n"
   ]
  },
  {
   "cell_type": "code",
   "execution_count": 25,
   "metadata": {
    "colab": {
     "base_uri": "https://localhost:8080/",
     "height": 315
    },
    "id": "w_T9kVJ9m1cE",
    "outputId": "cf3f9724-9d70-4183-8db5-996a1f4f4636"
   },
   "outputs": [
    {
     "data": {
      "text/html": [
       "<div>\n",
       "<style scoped>\n",
       "    .dataframe tbody tr th:only-of-type {\n",
       "        vertical-align: middle;\n",
       "    }\n",
       "\n",
       "    .dataframe tbody tr th {\n",
       "        vertical-align: top;\n",
       "    }\n",
       "\n",
       "    .dataframe thead th {\n",
       "        text-align: right;\n",
       "    }\n",
       "</style>\n",
       "<table border=\"1\" class=\"dataframe\">\n",
       "  <thead>\n",
       "    <tr style=\"text-align: right;\">\n",
       "      <th></th>\n",
       "      <th>אמת</th>\n",
       "      <th>ב</th>\n",
       "      <th>ג</th>\n",
       "      <th>ודעם</th>\n",
       "      <th>ז</th>\n",
       "      <th>זץ</th>\n",
       "      <th>ט</th>\n",
       "      <th>י</th>\n",
       "      <th>יז</th>\n",
       "      <th>ינ</th>\n",
       "      <th>...</th>\n",
       "      <th>ק</th>\n",
       "      <th>קי</th>\n",
       "      <th>קך</th>\n",
       "      <th>קץ</th>\n",
       "      <th>ר</th>\n",
       "      <th>רנ</th>\n",
       "      <th>רף</th>\n",
       "      <th>רק</th>\n",
       "      <th>שס</th>\n",
       "      <th>ת</th>\n",
       "    </tr>\n",
       "  </thead>\n",
       "  <tbody>\n",
       "    <tr>\n",
       "      <th>count</th>\n",
       "      <td>1215.000000</td>\n",
       "      <td>1215.000000</td>\n",
       "      <td>1215.000000</td>\n",
       "      <td>1215.000000</td>\n",
       "      <td>1215.000000</td>\n",
       "      <td>1215.000000</td>\n",
       "      <td>1215.000000</td>\n",
       "      <td>1215.000000</td>\n",
       "      <td>1215.000000</td>\n",
       "      <td>1215.000000</td>\n",
       "      <td>...</td>\n",
       "      <td>1215.000000</td>\n",
       "      <td>1215.000000</td>\n",
       "      <td>1215.000000</td>\n",
       "      <td>1215.000000</td>\n",
       "      <td>1215.000000</td>\n",
       "      <td>1215.000000</td>\n",
       "      <td>1215.000000</td>\n",
       "      <td>1215.0</td>\n",
       "      <td>1215.000000</td>\n",
       "      <td>1215.000000</td>\n",
       "    </tr>\n",
       "    <tr>\n",
       "      <th>mean</th>\n",
       "      <td>221.207407</td>\n",
       "      <td>225.379424</td>\n",
       "      <td>204.437037</td>\n",
       "      <td>174.965432</td>\n",
       "      <td>0.325103</td>\n",
       "      <td>0.545679</td>\n",
       "      <td>185.712757</td>\n",
       "      <td>0.667490</td>\n",
       "      <td>28.710288</td>\n",
       "      <td>0.335802</td>\n",
       "      <td>...</td>\n",
       "      <td>0.381070</td>\n",
       "      <td>0.325103</td>\n",
       "      <td>0.423045</td>\n",
       "      <td>0.600000</td>\n",
       "      <td>14.276543</td>\n",
       "      <td>0.978601</td>\n",
       "      <td>0.487243</td>\n",
       "      <td>0.0</td>\n",
       "      <td>260.088889</td>\n",
       "      <td>172.148971</td>\n",
       "    </tr>\n",
       "    <tr>\n",
       "      <th>std</th>\n",
       "      <td>1630.890978</td>\n",
       "      <td>1448.009636</td>\n",
       "      <td>2434.859254</td>\n",
       "      <td>924.732474</td>\n",
       "      <td>2.898415</td>\n",
       "      <td>3.250803</td>\n",
       "      <td>1149.958744</td>\n",
       "      <td>4.141412</td>\n",
       "      <td>169.416802</td>\n",
       "      <td>1.836611</td>\n",
       "      <td>...</td>\n",
       "      <td>3.373333</td>\n",
       "      <td>2.498201</td>\n",
       "      <td>2.369937</td>\n",
       "      <td>3.680126</td>\n",
       "      <td>72.194177</td>\n",
       "      <td>5.682239</td>\n",
       "      <td>3.259450</td>\n",
       "      <td>0.0</td>\n",
       "      <td>1759.336035</td>\n",
       "      <td>983.868998</td>\n",
       "    </tr>\n",
       "    <tr>\n",
       "      <th>min</th>\n",
       "      <td>0.000000</td>\n",
       "      <td>0.000000</td>\n",
       "      <td>0.000000</td>\n",
       "      <td>0.000000</td>\n",
       "      <td>0.000000</td>\n",
       "      <td>0.000000</td>\n",
       "      <td>0.000000</td>\n",
       "      <td>0.000000</td>\n",
       "      <td>0.000000</td>\n",
       "      <td>0.000000</td>\n",
       "      <td>...</td>\n",
       "      <td>0.000000</td>\n",
       "      <td>0.000000</td>\n",
       "      <td>0.000000</td>\n",
       "      <td>0.000000</td>\n",
       "      <td>0.000000</td>\n",
       "      <td>0.000000</td>\n",
       "      <td>0.000000</td>\n",
       "      <td>0.0</td>\n",
       "      <td>0.000000</td>\n",
       "      <td>0.000000</td>\n",
       "    </tr>\n",
       "    <tr>\n",
       "      <th>25%</th>\n",
       "      <td>7.000000</td>\n",
       "      <td>7.000000</td>\n",
       "      <td>0.000000</td>\n",
       "      <td>0.000000</td>\n",
       "      <td>0.000000</td>\n",
       "      <td>0.000000</td>\n",
       "      <td>2.000000</td>\n",
       "      <td>0.000000</td>\n",
       "      <td>1.000000</td>\n",
       "      <td>0.000000</td>\n",
       "      <td>...</td>\n",
       "      <td>0.000000</td>\n",
       "      <td>0.000000</td>\n",
       "      <td>0.000000</td>\n",
       "      <td>0.000000</td>\n",
       "      <td>0.000000</td>\n",
       "      <td>0.000000</td>\n",
       "      <td>0.000000</td>\n",
       "      <td>0.0</td>\n",
       "      <td>1.000000</td>\n",
       "      <td>7.000000</td>\n",
       "    </tr>\n",
       "    <tr>\n",
       "      <th>50%</th>\n",
       "      <td>36.000000</td>\n",
       "      <td>19.000000</td>\n",
       "      <td>1.000000</td>\n",
       "      <td>0.000000</td>\n",
       "      <td>0.000000</td>\n",
       "      <td>0.000000</td>\n",
       "      <td>6.000000</td>\n",
       "      <td>0.000000</td>\n",
       "      <td>3.000000</td>\n",
       "      <td>0.000000</td>\n",
       "      <td>...</td>\n",
       "      <td>0.000000</td>\n",
       "      <td>0.000000</td>\n",
       "      <td>0.000000</td>\n",
       "      <td>0.000000</td>\n",
       "      <td>2.000000</td>\n",
       "      <td>0.000000</td>\n",
       "      <td>0.000000</td>\n",
       "      <td>0.0</td>\n",
       "      <td>3.000000</td>\n",
       "      <td>16.000000</td>\n",
       "    </tr>\n",
       "    <tr>\n",
       "      <th>75%</th>\n",
       "      <td>92.000000</td>\n",
       "      <td>49.000000</td>\n",
       "      <td>3.000000</td>\n",
       "      <td>3.000000</td>\n",
       "      <td>0.000000</td>\n",
       "      <td>0.000000</td>\n",
       "      <td>42.000000</td>\n",
       "      <td>0.000000</td>\n",
       "      <td>7.000000</td>\n",
       "      <td>0.000000</td>\n",
       "      <td>...</td>\n",
       "      <td>0.000000</td>\n",
       "      <td>0.000000</td>\n",
       "      <td>0.000000</td>\n",
       "      <td>0.000000</td>\n",
       "      <td>4.000000</td>\n",
       "      <td>0.000000</td>\n",
       "      <td>0.000000</td>\n",
       "      <td>0.0</td>\n",
       "      <td>24.000000</td>\n",
       "      <td>31.500000</td>\n",
       "    </tr>\n",
       "    <tr>\n",
       "      <th>max</th>\n",
       "      <td>38780.000000</td>\n",
       "      <td>39693.000000</td>\n",
       "      <td>58585.000000</td>\n",
       "      <td>14632.000000</td>\n",
       "      <td>88.000000</td>\n",
       "      <td>93.000000</td>\n",
       "      <td>27130.000000</td>\n",
       "      <td>82.000000</td>\n",
       "      <td>3876.000000</td>\n",
       "      <td>41.000000</td>\n",
       "      <td>...</td>\n",
       "      <td>106.000000</td>\n",
       "      <td>77.000000</td>\n",
       "      <td>59.000000</td>\n",
       "      <td>101.000000</td>\n",
       "      <td>1303.000000</td>\n",
       "      <td>144.000000</td>\n",
       "      <td>77.000000</td>\n",
       "      <td>0.0</td>\n",
       "      <td>39151.000000</td>\n",
       "      <td>22077.000000</td>\n",
       "    </tr>\n",
       "  </tbody>\n",
       "</table>\n",
       "<p>8 rows × 39 columns</p>\n",
       "</div>"
      ],
      "text/plain": [
       "                אמת             ב             ג          ודעם            ז  \\\n",
       "count   1215.000000   1215.000000   1215.000000   1215.000000  1215.000000   \n",
       "mean     221.207407    225.379424    204.437037    174.965432     0.325103   \n",
       "std     1630.890978   1448.009636   2434.859254    924.732474     2.898415   \n",
       "min        0.000000      0.000000      0.000000      0.000000     0.000000   \n",
       "25%        7.000000      7.000000      0.000000      0.000000     0.000000   \n",
       "50%       36.000000     19.000000      1.000000      0.000000     0.000000   \n",
       "75%       92.000000     49.000000      3.000000      3.000000     0.000000   \n",
       "max    38780.000000  39693.000000  58585.000000  14632.000000    88.000000   \n",
       "\n",
       "                זץ             ט            י           יז           ינ  ...  \\\n",
       "count  1215.000000   1215.000000  1215.000000  1215.000000  1215.000000  ...   \n",
       "mean      0.545679    185.712757     0.667490    28.710288     0.335802  ...   \n",
       "std       3.250803   1149.958744     4.141412   169.416802     1.836611  ...   \n",
       "min       0.000000      0.000000     0.000000     0.000000     0.000000  ...   \n",
       "25%       0.000000      2.000000     0.000000     1.000000     0.000000  ...   \n",
       "50%       0.000000      6.000000     0.000000     3.000000     0.000000  ...   \n",
       "75%       0.000000     42.000000     0.000000     7.000000     0.000000  ...   \n",
       "max      93.000000  27130.000000    82.000000  3876.000000    41.000000  ...   \n",
       "\n",
       "                 ק           קי           קך           קץ            ר  \\\n",
       "count  1215.000000  1215.000000  1215.000000  1215.000000  1215.000000   \n",
       "mean      0.381070     0.325103     0.423045     0.600000    14.276543   \n",
       "std       3.373333     2.498201     2.369937     3.680126    72.194177   \n",
       "min       0.000000     0.000000     0.000000     0.000000     0.000000   \n",
       "25%       0.000000     0.000000     0.000000     0.000000     0.000000   \n",
       "50%       0.000000     0.000000     0.000000     0.000000     2.000000   \n",
       "75%       0.000000     0.000000     0.000000     0.000000     4.000000   \n",
       "max     106.000000    77.000000    59.000000   101.000000  1303.000000   \n",
       "\n",
       "                רנ           רף      רק            שס             ת  \n",
       "count  1215.000000  1215.000000  1215.0   1215.000000   1215.000000  \n",
       "mean      0.978601     0.487243     0.0    260.088889    172.148971  \n",
       "std       5.682239     3.259450     0.0   1759.336035    983.868998  \n",
       "min       0.000000     0.000000     0.0      0.000000      0.000000  \n",
       "25%       0.000000     0.000000     0.0      1.000000      7.000000  \n",
       "50%       0.000000     0.000000     0.0      3.000000     16.000000  \n",
       "75%       0.000000     0.000000     0.0     24.000000     31.500000  \n",
       "max     144.000000    77.000000     0.0  39151.000000  22077.000000  \n",
       "\n",
       "[8 rows x 39 columns]"
      ]
     },
     "execution_count": 25,
     "metadata": {},
     "output_type": "execute_result"
    }
   ],
   "source": [
    "df_2021.describe()\n"
   ]
  },
  {
   "cell_type": "code",
   "execution_count": 26,
   "metadata": {
    "colab": {
     "base_uri": "https://localhost:8080/",
     "height": 172
    },
    "id": "WkA-6k1q--vR",
    "outputId": "1ac5a23c-a6d1-4b61-8aae-f05ab6d5d07e"
   },
   "outputs": [
    {
     "data": {
      "text/html": [
       "<div>\n",
       "<style scoped>\n",
       "    .dataframe tbody tr th:only-of-type {\n",
       "        vertical-align: middle;\n",
       "    }\n",
       "\n",
       "    .dataframe tbody tr th {\n",
       "        vertical-align: top;\n",
       "    }\n",
       "\n",
       "    .dataframe thead th {\n",
       "        text-align: right;\n",
       "    }\n",
       "</style>\n",
       "<table border=\"1\" class=\"dataframe\">\n",
       "  <thead>\n",
       "    <tr style=\"text-align: right;\">\n",
       "      <th></th>\n",
       "      <th>אמת</th>\n",
       "      <th>ב</th>\n",
       "      <th>ג</th>\n",
       "      <th>ודעם</th>\n",
       "      <th>ז</th>\n",
       "      <th>זץ</th>\n",
       "      <th>ט</th>\n",
       "      <th>י</th>\n",
       "      <th>יז</th>\n",
       "      <th>ינ</th>\n",
       "      <th>...</th>\n",
       "      <th>ק</th>\n",
       "      <th>קי</th>\n",
       "      <th>קך</th>\n",
       "      <th>קץ</th>\n",
       "      <th>ר</th>\n",
       "      <th>רנ</th>\n",
       "      <th>רף</th>\n",
       "      <th>רק</th>\n",
       "      <th>שס</th>\n",
       "      <th>ת</th>\n",
       "    </tr>\n",
       "    <tr>\n",
       "      <th>שם ישוב</th>\n",
       "      <th></th>\n",
       "      <th></th>\n",
       "      <th></th>\n",
       "      <th></th>\n",
       "      <th></th>\n",
       "      <th></th>\n",
       "      <th></th>\n",
       "      <th></th>\n",
       "      <th></th>\n",
       "      <th></th>\n",
       "      <th></th>\n",
       "      <th></th>\n",
       "      <th></th>\n",
       "      <th></th>\n",
       "      <th></th>\n",
       "      <th></th>\n",
       "      <th></th>\n",
       "      <th></th>\n",
       "      <th></th>\n",
       "      <th></th>\n",
       "      <th></th>\n",
       "    </tr>\n",
       "  </thead>\n",
       "  <tbody>\n",
       "    <tr>\n",
       "      <th>אדירים</th>\n",
       "      <td>1</td>\n",
       "      <td>7</td>\n",
       "      <td>4</td>\n",
       "      <td>0</td>\n",
       "      <td>0</td>\n",
       "      <td>0</td>\n",
       "      <td>9</td>\n",
       "      <td>0</td>\n",
       "      <td>1</td>\n",
       "      <td>0</td>\n",
       "      <td>...</td>\n",
       "      <td>0</td>\n",
       "      <td>0</td>\n",
       "      <td>0</td>\n",
       "      <td>0</td>\n",
       "      <td>2</td>\n",
       "      <td>0</td>\n",
       "      <td>0</td>\n",
       "      <td>0</td>\n",
       "      <td>61</td>\n",
       "      <td>6</td>\n",
       "    </tr>\n",
       "    <tr>\n",
       "      <th>אושה</th>\n",
       "      <td>72</td>\n",
       "      <td>7</td>\n",
       "      <td>0</td>\n",
       "      <td>3</td>\n",
       "      <td>0</td>\n",
       "      <td>0</td>\n",
       "      <td>0</td>\n",
       "      <td>0</td>\n",
       "      <td>2</td>\n",
       "      <td>0</td>\n",
       "      <td>...</td>\n",
       "      <td>0</td>\n",
       "      <td>0</td>\n",
       "      <td>0</td>\n",
       "      <td>0</td>\n",
       "      <td>1</td>\n",
       "      <td>0</td>\n",
       "      <td>0</td>\n",
       "      <td>0</td>\n",
       "      <td>0</td>\n",
       "      <td>15</td>\n",
       "    </tr>\n",
       "    <tr>\n",
       "      <th>אחווה</th>\n",
       "      <td>14</td>\n",
       "      <td>4</td>\n",
       "      <td>0</td>\n",
       "      <td>0</td>\n",
       "      <td>0</td>\n",
       "      <td>0</td>\n",
       "      <td>4</td>\n",
       "      <td>0</td>\n",
       "      <td>0</td>\n",
       "      <td>0</td>\n",
       "      <td>...</td>\n",
       "      <td>0</td>\n",
       "      <td>0</td>\n",
       "      <td>0</td>\n",
       "      <td>0</td>\n",
       "      <td>0</td>\n",
       "      <td>0</td>\n",
       "      <td>0</td>\n",
       "      <td>0</td>\n",
       "      <td>2</td>\n",
       "      <td>8</td>\n",
       "    </tr>\n",
       "  </tbody>\n",
       "</table>\n",
       "<p>3 rows × 39 columns</p>\n",
       "</div>"
      ],
      "text/plain": [
       "         אמת  ב  ג  ודעם  ז  זץ  ט  י  יז  ינ  ...  ק  קי  קך  קץ  ר  רנ  רף  \\\n",
       "שם ישוב                                        ...                             \n",
       "אדירים     1  7  4     0  0   0  9  0   1   0  ...  0   0   0   0  2   0   0   \n",
       "אושה      72  7  0     3  0   0  0  0   2   0  ...  0   0   0   0  1   0   0   \n",
       "אחווה     14  4  0     0  0   0  4  0   0   0  ...  0   0   0   0  0   0   0   \n",
       "\n",
       "         רק  שס   ת  \n",
       "שם ישוב              \n",
       "אדירים    0  61   6  \n",
       "אושה      0   0  15  \n",
       "אחווה     0   2   8  \n",
       "\n",
       "[3 rows x 39 columns]"
      ]
     },
     "execution_count": 26,
     "metadata": {},
     "output_type": "execute_result"
    }
   ],
   "source": [
    "# df_2021.reset_index(inplace=True)\n",
    "df_2021.style.set_properties(**{'text-align': 'left'})\n",
    "df_2021.head()\n",
    "df_2021[1:4]\n",
    "\n",
    "\n"
   ]
  },
  {
   "cell_type": "code",
   "execution_count": 27,
   "metadata": {
    "colab": {
     "base_uri": "https://localhost:8080/"
    },
    "id": "HeQX7NyNtWaX",
    "outputId": "9dc8f81e-925f-4835-a54f-5f6f93d36403"
   },
   "outputs": [
    {
     "data": {
      "text/plain": [
       "אמת      0\n",
       "ב        0\n",
       "ג        0\n",
       "ודעם    48\n",
       "ז        0\n",
       "זץ       0\n",
       "ט        0\n",
       "י        0\n",
       "יז       0\n",
       "ינ       0\n",
       "יף       0\n",
       "יק       0\n",
       "יר       0\n",
       "כ        0\n",
       "כך       0\n",
       "כן       0\n",
       "ל        0\n",
       "מחל      4\n",
       "מרצ      0\n",
       "נ        0\n",
       "ני       0\n",
       "נר       0\n",
       "עם      32\n",
       "פה       0\n",
       "ףז       0\n",
       "צי       0\n",
       "צכ       0\n",
       "צף       0\n",
       "ץ        0\n",
       "ק        0\n",
       "קי       0\n",
       "קך       0\n",
       "קץ       0\n",
       "ר        0\n",
       "רנ       0\n",
       "רף       0\n",
       "רק       0\n",
       "שס       0\n",
       "ת        0\n",
       "Name: אלעריאן, dtype: int64"
      ]
     },
     "execution_count": 27,
     "metadata": {},
     "output_type": "execute_result"
    }
   ],
   "source": [
    "df_2021.iloc[5]"
   ]
  },
  {
   "cell_type": "code",
   "execution_count": 28,
   "metadata": {
    "colab": {
     "base_uri": "https://localhost:8080/"
    },
    "id": "vTQRwkFftm8G",
    "outputId": "e6ee2b4b-796c-4bea-edbf-d526049762b1"
   },
   "outputs": [
    {
     "data": {
      "text/plain": [
       "אמת      5127\n",
       "ב        2680\n",
       "ג         449\n",
       "ודעם       92\n",
       "ז           5\n",
       "זץ          3\n",
       "ט         959\n",
       "י           8\n",
       "יז        511\n",
       "ינ          1\n",
       "יף          1\n",
       "יק          1\n",
       "יר          2\n",
       "כ           2\n",
       "כך         11\n",
       "כן       6908\n",
       "ל        2413\n",
       "מחל     11580\n",
       "מרצ      4557\n",
       "נ           2\n",
       "ני          3\n",
       "נר          0\n",
       "עם          9\n",
       "פה      14701\n",
       "ףז         12\n",
       "צי          7\n",
       "צכ          2\n",
       "צף          1\n",
       "ץ           1\n",
       "ק           4\n",
       "קי          1\n",
       "קך          5\n",
       "קץ          7\n",
       "ר         215\n",
       "רנ         17\n",
       "רף          1\n",
       "רק          0\n",
       "שס       1677\n",
       "ת        2996\n",
       "Name: הרצליה, dtype: int64"
      ]
     },
     "execution_count": 28,
     "metadata": {},
     "output_type": "execute_result"
    }
   ],
   "source": [
    "df_2021.loc['הרצליה']"
   ]
  },
  {
   "cell_type": "markdown",
   "metadata": {
    "id": "EUuZQFD1cd89"
   },
   "source": [
    "Now let's do some plotting"
   ]
  },
  {
   "cell_type": "code",
   "execution_count": 29,
   "metadata": {
    "colab": {
     "base_uri": "https://localhost:8080/",
     "height": 293
    },
    "id": "870LcQWgv2OB",
    "outputId": "428449cf-2aac-4365-defb-4dfe78cfee2d"
   },
   "outputs": [
    {
     "data": {
      "text/plain": [
       "<AxesSubplot:>"
      ]
     },
     "execution_count": 29,
     "metadata": {},
     "output_type": "execute_result"
    },
    {
     "data": {
      "image/png": "[encoded data removed]",
      "text/plain": [
       "<Figure size 432x288 with 1 Axes>"
      ]
     },
     "metadata": {
      "needs_background": "light"
     },
     "output_type": "display_data"
    }
   ],
   "source": [
    "from matplotlib import pyplot as plt\n",
    "df_2021.loc['הרצליה'].plot.bar()"
   ]
  },
  {
   "cell_type": "code",
   "execution_count": 18,
   "metadata": {
    "colab": {
     "base_uri": "https://localhost:8080/",
     "height": 162
    },
    "id": "aVRVc3qWd_tL",
    "outputId": "fe0a3f2a-25ae-4005-ffcb-6fd3cdf4b188"
   },
   "outputs": [
    {
     "ename": "NameError",
     "evalue": "ignored",
     "output_type": "error",
     "traceback": [
      "\u001b[0;31m---------------------------------------------------------------------------\u001b[0m",
      "\u001b[0;31mNameError\u001b[0m                                 Traceback (most recent call last)",
      "\u001b[0;32m<ipython-input-18-1104618ce043>\u001b[0m in \u001b[0;36m<module>\u001b[0;34m()\u001b[0m\n\u001b[0;32m----> 1\u001b[0;31m \u001b[0mdf_2020\u001b[0m\u001b[0;34m.\u001b[0m\u001b[0mloc\u001b[0m\u001b[0;34m[\u001b[0m\u001b[0;34m'אילת'\u001b[0m\u001b[0;34m]\u001b[0m\u001b[0;34m.\u001b[0m\u001b[0mplot\u001b[0m\u001b[0;34m.\u001b[0m\u001b[0mbar\u001b[0m\u001b[0;34m(\u001b[0m\u001b[0;34m)\u001b[0m\u001b[0;34m\u001b[0m\u001b[0;34m\u001b[0m\u001b[0m\n\u001b[0m",
      "\u001b[0;31mNameError\u001b[0m: name 'df_2020' is not defined"
     ]
    }
   ],
   "source": [
    "df_2020.loc['אילת'].plot.bar()"
   ]
  },
  {
   "cell_type": "markdown",
   "metadata": {
    "id": "4uaRGD8JYVk0"
   },
   "source": [
    "Next, we create a function for showing a bar plot of the voting **percentage** in a given city, while showing only the parties above a % threshold "
   ]
  },
  {
   "cell_type": "code",
   "execution_count": null,
   "metadata": {
    "id": "gvcZSFcX_w49"
   },
   "outputs": [],
   "source": [
    "# Compute votes share only for parties above a certain threshold \n",
    "def parties_votes_percents(df, thresh):\n",
    "    par = df.sum().div(df.sum().sum()).sort_values(ascending=False)\n",
    "    return par[par > thresh]\n",
    "\n",
    "total_votes = parties_votes_percents(df_2021, 0.001)  # total votes for each party\n",
    "total_votes.plot.bar()\n",
    "\n"
   ]
  },
  {
   "cell_type": "code",
   "execution_count": null,
   "metadata": {
    "id": "nBDU6GHnDCcN"
   },
   "outputs": [],
   "source": [
    "# Bar plot for a party, only showing values above a certain threshold\n",
    "def party_bar(df, thresh, city):\n",
    "    width = 0.3  # set column width \n",
    "    votes = parties_votes_percents(df, thresh)  # total votes for each party\n",
    "    n = len(votes)  # number of parties\n",
    "    names = votes.keys()\n",
    "\n",
    "    rev_names = [name[::-1] for name in list(names)]\n",
    "    fig, ax = plt.subplots()  # plt.subplots()\n",
    "\n",
    "    city_votes = df.loc[city,names] / df.loc[city,names].sum()\n",
    "    all_bar = ax.bar(np.arange(n), list(votes), width, color='b')\n",
    "    city_bar = ax.bar(np.arange(n)+width, list(city_votes), width, color='r')\n",
    "\n",
    "    ax.set_ylabel('Votes percent')\n",
    "    ax.set_xlabel('Parties Names')\n",
    "    ax.set_title('Votes percent per party 2019')\n",
    "    ax.set_xticks(np.arange(n))\n",
    "    ax.set_xticklabels(rev_names)\n",
    "    ax.legend((all_bar[0], city_bar[0]), ('Israel', city[::-1]))\n",
    "    plt.show()\n",
    "\n",
    "    return fig, ax\n",
    "\n",
    "\n",
    "party_bar(df_2020, 0.0325, 'טבריה')\n",
    "party_bar(df_2020, 0.0325, 'ירושלים')"
   ]
  },
  {
   "cell_type": "markdown",
   "metadata": {
    "id": "dV6fkF2wjoNE"
   },
   "source": [
    "Show histogram of number of votes for a column\n",
    " \n"
   ]
  },
  {
   "cell_type": "code",
   "execution_count": null,
   "metadata": {
    "id": "uDcXxGBGjslG"
   },
   "outputs": [],
   "source": [
    "df_2020_raw['כשרים'].hist(bins=100)"
   ]
  }
 ],
 "metadata": {
  "colab": {
   "collapsed_sections": [],
   "name": "ReadElectionData.ipynb",
   "provenance": []
  },
  "kernelspec": {
   "display_name": "Python 3",
   "language": "python",
   "name": "python3"
  },
  "language_info": {
   "codemirror_mode": {
    "name": "ipython",
    "version": 3
   },
   "file_extension": ".py",
   "mimetype": "text/x-python",
   "name": "python",
   "nbconvert_exporter": "python",
   "pygments_lexer": "ipython3",
   "version": "3.8.5"
  }
 },
 "nbformat": 4,
 "nbformat_minor": 1
}
